{
 "cells": [
  {
   "cell_type": "markdown",
   "id": "cbe2b76e-8017-4c0e-b055-1073c2be02e5",
   "metadata": {
    "tags": []
   },
   "source": [
    "---\n",
    "# Fake News NLP Prediction\n",
    "---\n",
    "\n",
    "<div style=\"text-align:center\">\n",
    "  <img src=\"image/breaking-news.jpg\" alt=\"image_alt_text\" width=\"800\">\n",
    "</div>\n",
    "\n",
    "---\n",
    "## John Kuk\n",
    "### The George Washington University\n",
    "### School of Engineering and Applied Science\n",
    "### Doctor of Engineering in Cybersecurity Analytics\n",
    "---\n",
    "## Dr. Mehdi Hashemipour\n",
    "### SEAS 6800B - Python Application in Cyber Analytics\n",
    "---\n",
    "**For my research topic I was thinking of leveraging GPT to investigate fake or real content in social media. I stumbled on some twitter news data and figured this would be a good start, and use NLP to try to do some predictions. At some point it would be neat to try to see if I can do this with images and videos. For now let's just start small with text and language.**\n",
    "\\\n",
    "\\\n",
    "**Original GitHub project for datasets**\n",
    "\\\n",
    "https://github.com/KaiDMML/FakeNewsNet/tree/master/dataset\n",
    "\\\n",
    "**My GitHub project with Jupyter Notebook showing how to NLP this thing**\n",
    "\\\n",
    "https://github.com/nispoe/FakeNews-NLP-Prediction\n",
    "\\\n",
    "**Okay... posted it on my GWU blog as well**\n",
    "\\\n",
    "https://blogs.gwu.edu/john-kuk/2023/03/25/fake-news-nlp-prediction\n",
    "---"
   ]
  },
  {
   "cell_type": "markdown",
   "id": "1623d16a-0037-433c-8e36-22d33e38a146",
   "metadata": {},
   "source": [
    "---\n",
    "\n",
    "<h1>Table of Contents<span class=\"tocSkip\"></span></h1>\n",
    "<div class=\"toc\">\n",
    "  <ol class=\"toc-item\">\n",
    "      <li>\n",
    "        <a href=\"#Loading,-merging,-and-checking-dataset\">Loading, merging, and checking dataset</a>\n",
    "      </li>\n",
    "      <li>\n",
    "        <a href=\"#Exploring-the-dataset\">Exploring the dataset</a>\n",
    "        <ol>\n",
    "          <li>\n",
    "            <a href=\"#Address-null-values\">Address null values</a>\n",
    "          </li>\n",
    "          <li>\n",
    "            <a href=\"#Address-data-imbalance\">Address data imbalance</a>\n",
    "          </li>\n",
    "        </ol>\n",
    "      </li>\n",
    "      <li>\n",
    "        <a href=\"#Tokenizing-and-Bagging-data\">Tokenizing and Bagging data</a>\n",
    "      </li>\n",
    "      <li>\n",
    "        <a href=\"#Split-news-data-into-training-and-testing-datasets\">Split news data into training and testing datasets</a>\n",
    "      </li>\n",
    "      <li>\n",
    "        <a href=\"#Generate-confusion-matrix\">Generate confusion matrix</a>\n",
    "      </li>\n",
    "      <li>\n",
    "        <a href=\"#Try-PyCaret-AutoML-to-compare-classifiers\">Try PyCaret AutoML to compare classifiers</a>\n",
    "        <ol>\n",
    "          <li>\n",
    "            <a href=\"#Tune-model-optimizing-to-AUC\">Tune model optimizing to AUC</a>\n",
    "          </li>\n",
    "          <li>\n",
    "            <a href=\"#Test-tuned-model-on-hold-out-test-set\">Test tuned model on hold-out test set</a>\n",
    "          </li>\n",
    "        </ol>\n",
    "      </li>\n",
    "      <li>\n",
    "        <a href=\"#Create-the-top-tree-model-and-interpret\">Create the top tree model and interpret</a>\n",
    "      </li>\n",
    "      <li>\n",
    "        <a href=\"#Try-gradient-boosting\">Try gradient boosting</a>\n",
    "      </li>\n",
    "      <li>\n",
    "        <a href=\"#Try-logistic-regression-and-random-forest\">Try logistic regression and random forest</a>\n",
    "      </li>\n",
    "      <li>\n",
    "        <a href=\"#Try-ensemble-with-logistic-regression-and-random-forest\">Try ensemble with logistic regression and random forest</a>\n",
    "      </li>\n",
    "      <li>\n",
    "        <a href=\"#Try-ensemble-with-all-three-classifiers\">Try ensemble with all three classifiers</a>\n",
    "      </li>\n",
    "      <li>\n",
    "        <a href=\"#Generate-html-file\">Generate html file</a>\n",
    "      </li>\n",
    "  </ol>\n",
    "</div>\n",
    "\n",
    "---"
   ]
  },
  {
   "cell_type": "code",
   "execution_count": 23,
   "id": "3440e46f-542b-4406-98f0-6b022e218d86",
   "metadata": {
    "tags": []
   },
   "outputs": [
    {
     "name": "stderr",
     "output_type": "stream",
     "text": [
      "[nltk_data] Downloading package punkt to\n",
      "[nltk_data]     C:\\Users\\nispoe\\AppData\\Roaming\\nltk_data...\n",
      "[nltk_data]   Package punkt is already up-to-date!\n",
      "[nltk_data] Downloading package stopwords to\n",
      "[nltk_data]     C:\\Users\\nispoe\\AppData\\Roaming\\nltk_data...\n",
      "[nltk_data]   Package stopwords is already up-to-date!\n",
      "[nltk_data] Downloading package wordnet to\n",
      "[nltk_data]     C:\\Users\\nispoe\\AppData\\Roaming\\nltk_data...\n",
      "[nltk_data]   Package wordnet is already up-to-date!\n"
     ]
    },
    {
     "data": {
      "text/plain": [
       "True"
      ]
     },
     "execution_count": 23,
     "metadata": {},
     "output_type": "execute_result"
    }
   ],
   "source": [
    "import pandas as pd\n",
    "import numpy as np\n",
    "import seaborn as sns\n",
    "import matplotlib.pyplot as plt\n",
    "import nltk\n",
    "\n",
    "from nltk.corpus import stopwords\n",
    "from nltk.stem import WordNetLemmatizer\n",
    "from sklearn.feature_extraction.text import CountVectorizer\n",
    "from sklearn.linear_model import LogisticRegression\n",
    "from sklearn.ensemble import RandomForestClassifier, VotingClassifier\n",
    "from sklearn.model_selection import train_test_split\n",
    "from sklearn.metrics import ConfusionMatrixDisplay, confusion_matrix, accuracy_score, roc_auc_score, roc_curve, auc\n",
    "from imblearn.over_sampling import RandomOverSampler\n",
    "from pycaret.classification import *\n",
    "\n",
    "nltk.download('punkt')\n",
    "nltk.download('stopwords')\n",
    "nltk.download('wordnet')"
   ]
  },
  {
   "cell_type": "markdown",
   "id": "25667b34-8002-4466-915e-6b367b6de4d1",
   "metadata": {
    "tags": []
   },
   "source": [
    "## Loading, merging, and checking dataset"
   ]
  },
  {
   "cell_type": "code",
   "execution_count": 2,
   "id": "7aa30b79-3ec3-4e1b-b2a8-b20f54882677",
   "metadata": {
    "tags": []
   },
   "outputs": [
    {
     "data": {
      "text/html": [
       "<div>\n",
       "<style scoped>\n",
       "    .dataframe tbody tr th:only-of-type {\n",
       "        vertical-align: middle;\n",
       "    }\n",
       "\n",
       "    .dataframe tbody tr th {\n",
       "        vertical-align: top;\n",
       "    }\n",
       "\n",
       "    .dataframe thead th {\n",
       "        text-align: right;\n",
       "    }\n",
       "</style>\n",
       "<table border=\"1\" class=\"dataframe\">\n",
       "  <thead>\n",
       "    <tr style=\"text-align: right;\">\n",
       "      <th></th>\n",
       "      <th>id</th>\n",
       "      <th>news_url</th>\n",
       "      <th>title</th>\n",
       "      <th>tweet_ids</th>\n",
       "      <th>label</th>\n",
       "    </tr>\n",
       "  </thead>\n",
       "  <tbody>\n",
       "    <tr>\n",
       "      <th>0</th>\n",
       "      <td>politifact15014</td>\n",
       "      <td>speedtalk.com/forum/viewtopic.php?t=51650</td>\n",
       "      <td>BREAKING: First NFL Team Declares Bankruptcy O...</td>\n",
       "      <td>937349434668498944\\t937379378006282240\\t937380...</td>\n",
       "      <td>fake</td>\n",
       "    </tr>\n",
       "    <tr>\n",
       "      <th>1</th>\n",
       "      <td>politifact15156</td>\n",
       "      <td>politics2020.info/index.php/2018/03/13/court-o...</td>\n",
       "      <td>Court Orders Obama To Pay $400 Million In Rest...</td>\n",
       "      <td>972666281441878016\\t972678396575559680\\t972827...</td>\n",
       "      <td>fake</td>\n",
       "    </tr>\n",
       "    <tr>\n",
       "      <th>2</th>\n",
       "      <td>politifact14745</td>\n",
       "      <td>www.nscdscamps.org/blog/category/parenting/467...</td>\n",
       "      <td>UPDATE: Second Roy Moore Accuser Works For Mic...</td>\n",
       "      <td>929405740732870656\\t929439450400264192\\t929439...</td>\n",
       "      <td>fake</td>\n",
       "    </tr>\n",
       "    <tr>\n",
       "      <th>3</th>\n",
       "      <td>politifact14355</td>\n",
       "      <td>https://howafrica.com/oscar-pistorius-attempts...</td>\n",
       "      <td>Oscar Pistorius Attempts To Commit Suicide</td>\n",
       "      <td>886941526458347521\\t887011300278194176\\t887023...</td>\n",
       "      <td>fake</td>\n",
       "    </tr>\n",
       "    <tr>\n",
       "      <th>4</th>\n",
       "      <td>politifact15371</td>\n",
       "      <td>http://washingtonsources.org/trump-votes-for-d...</td>\n",
       "      <td>Trump Votes For Death Penalty For Being Gay</td>\n",
       "      <td>915205698212040704\\t915242076681506816\\t915249...</td>\n",
       "      <td>fake</td>\n",
       "    </tr>\n",
       "  </tbody>\n",
       "</table>\n",
       "</div>"
      ],
      "text/plain": [
       "                id                                           news_url  \\\n",
       "0  politifact15014          speedtalk.com/forum/viewtopic.php?t=51650   \n",
       "1  politifact15156  politics2020.info/index.php/2018/03/13/court-o...   \n",
       "2  politifact14745  www.nscdscamps.org/blog/category/parenting/467...   \n",
       "3  politifact14355  https://howafrica.com/oscar-pistorius-attempts...   \n",
       "4  politifact15371  http://washingtonsources.org/trump-votes-for-d...   \n",
       "\n",
       "                                               title  \\\n",
       "0  BREAKING: First NFL Team Declares Bankruptcy O...   \n",
       "1  Court Orders Obama To Pay $400 Million In Rest...   \n",
       "2  UPDATE: Second Roy Moore Accuser Works For Mic...   \n",
       "3         Oscar Pistorius Attempts To Commit Suicide   \n",
       "4        Trump Votes For Death Penalty For Being Gay   \n",
       "\n",
       "                                           tweet_ids label  \n",
       "0  937349434668498944\\t937379378006282240\\t937380...  fake  \n",
       "1  972666281441878016\\t972678396575559680\\t972827...  fake  \n",
       "2  929405740732870656\\t929439450400264192\\t929439...  fake  \n",
       "3  886941526458347521\\t887011300278194176\\t887023...  fake  \n",
       "4  915205698212040704\\t915242076681506816\\t915249...  fake  "
      ]
     },
     "execution_count": 2,
     "metadata": {},
     "output_type": "execute_result"
    }
   ],
   "source": [
    "fake_politifact = pd.read_csv('dataset/politifact_fake.csv', encoding='utf-8')\n",
    "real_politifact = pd.read_csv('dataset/politifact_real.csv', encoding='utf-8')\n",
    "fake_gossipcop = pd.read_csv('dataset/gossipcop_fake.csv', encoding='utf-8')\n",
    "real_gossipcop = pd.read_csv('dataset/gossipcop_real.csv', encoding='utf-8')\n",
    "\n",
    "fake_politifact['label'] = 'fake'\n",
    "real_politifact['label'] = 'real'\n",
    "fake_gossipcop['label'] = 'fake'\n",
    "real_gossipcop['label'] = 'real'\n",
    "\n",
    "news = pd.concat([fake_politifact, real_politifact, fake_gossipcop, real_gossipcop], ignore_index=True)\n",
    "\n",
    "news.head()"
   ]
  },
  {
   "cell_type": "code",
   "execution_count": 3,
   "id": "067176d2-8c11-4595-8615-0d5f6c9a8de7",
   "metadata": {
    "tags": []
   },
   "outputs": [
    {
     "data": {
      "text/plain": [
       "(23196, 5)"
      ]
     },
     "execution_count": 3,
     "metadata": {},
     "output_type": "execute_result"
    }
   ],
   "source": [
    "news.shape"
   ]
  },
  {
   "cell_type": "code",
   "execution_count": 4,
   "id": "96e98272-139a-4db9-83b8-86844bd49979",
   "metadata": {
    "tags": []
   },
   "outputs": [
    {
     "data": {
      "text/html": [
       "<div>\n",
       "<style scoped>\n",
       "    .dataframe tbody tr th:only-of-type {\n",
       "        vertical-align: middle;\n",
       "    }\n",
       "\n",
       "    .dataframe tbody tr th {\n",
       "        vertical-align: top;\n",
       "    }\n",
       "\n",
       "    .dataframe thead th {\n",
       "        text-align: right;\n",
       "    }\n",
       "</style>\n",
       "<table border=\"1\" class=\"dataframe\">\n",
       "  <thead>\n",
       "    <tr style=\"text-align: right;\">\n",
       "      <th></th>\n",
       "      <th>id</th>\n",
       "      <th>news_url</th>\n",
       "      <th>title</th>\n",
       "      <th>tweet_ids</th>\n",
       "      <th>label</th>\n",
       "    </tr>\n",
       "  </thead>\n",
       "  <tbody>\n",
       "    <tr>\n",
       "      <th>count</th>\n",
       "      <td>23196</td>\n",
       "      <td>22866</td>\n",
       "      <td>23196</td>\n",
       "      <td>21695</td>\n",
       "      <td>23196</td>\n",
       "    </tr>\n",
       "    <tr>\n",
       "      <th>unique</th>\n",
       "      <td>23194</td>\n",
       "      <td>21658</td>\n",
       "      <td>21724</td>\n",
       "      <td>21597</td>\n",
       "      <td>2</td>\n",
       "    </tr>\n",
       "    <tr>\n",
       "      <th>top</th>\n",
       "      <td>politifact14940</td>\n",
       "      <td>https://www.thewrap.com/this-is-us-everything-...</td>\n",
       "      <td>Connecting People Through News</td>\n",
       "      <td>950201158445948928\\t978452415514136576\\t101565...</td>\n",
       "      <td>real</td>\n",
       "    </tr>\n",
       "    <tr>\n",
       "      <th>freq</th>\n",
       "      <td>2</td>\n",
       "      <td>11</td>\n",
       "      <td>20</td>\n",
       "      <td>6</td>\n",
       "      <td>17441</td>\n",
       "    </tr>\n",
       "  </tbody>\n",
       "</table>\n",
       "</div>"
      ],
      "text/plain": [
       "                     id                                           news_url  \\\n",
       "count             23196                                              22866   \n",
       "unique            23194                                              21658   \n",
       "top     politifact14940  https://www.thewrap.com/this-is-us-everything-...   \n",
       "freq                  2                                                 11   \n",
       "\n",
       "                                 title  \\\n",
       "count                            23196   \n",
       "unique                           21724   \n",
       "top     Connecting People Through News   \n",
       "freq                                20   \n",
       "\n",
       "                                                tweet_ids  label  \n",
       "count                                               21695  23196  \n",
       "unique                                              21597      2  \n",
       "top     950201158445948928\\t978452415514136576\\t101565...   real  \n",
       "freq                                                    6  17441  "
      ]
     },
     "execution_count": 4,
     "metadata": {},
     "output_type": "execute_result"
    }
   ],
   "source": [
    "news.describe()"
   ]
  },
  {
   "cell_type": "code",
   "execution_count": 5,
   "id": "ae09d5b8-dee8-4a71-b1be-66a7539a4200",
   "metadata": {
    "tags": []
   },
   "outputs": [
    {
     "name": "stdout",
     "output_type": "stream",
     "text": [
      "<class 'pandas.core.frame.DataFrame'>\n",
      "RangeIndex: 23196 entries, 0 to 23195\n",
      "Data columns (total 5 columns):\n",
      " #   Column     Non-Null Count  Dtype \n",
      "---  ------     --------------  ----- \n",
      " 0   id         23196 non-null  object\n",
      " 1   news_url   22866 non-null  object\n",
      " 2   title      23196 non-null  object\n",
      " 3   tweet_ids  21695 non-null  object\n",
      " 4   label      23196 non-null  object\n",
      "dtypes: object(5)\n",
      "memory usage: 906.2+ KB\n"
     ]
    }
   ],
   "source": [
    "news.info()"
   ]
  },
  {
   "cell_type": "markdown",
   "id": "0fb7a33a-0fbb-4cf9-b389-d429205df8ca",
   "metadata": {
    "tags": []
   },
   "source": [
    "## Exploring the dataset"
   ]
  },
  {
   "cell_type": "code",
   "execution_count": 6,
   "id": "dec108bd-fdde-47f6-86ca-51bc2ead873c",
   "metadata": {
    "tags": []
   },
   "outputs": [
    {
     "data": {
      "text/plain": [
       "array(['fake', 'real'], dtype=object)"
      ]
     },
     "execution_count": 6,
     "metadata": {},
     "output_type": "execute_result"
    }
   ],
   "source": [
    "news.label.unique()"
   ]
  },
  {
   "cell_type": "code",
   "execution_count": 7,
   "id": "1e8af884-a045-4178-8a34-5f1e61b5228d",
   "metadata": {
    "tags": []
   },
   "outputs": [
    {
     "data": {
      "text/plain": [
       "real    17441\n",
       "fake     5755\n",
       "Name: label, dtype: int64"
      ]
     },
     "execution_count": 7,
     "metadata": {},
     "output_type": "execute_result"
    }
   ],
   "source": [
    "news.label.value_counts()"
   ]
  },
  {
   "cell_type": "markdown",
   "id": "6d48cfd1-65e6-4606-a3d7-a60d4713c67f",
   "metadata": {
    "tags": []
   },
   "source": [
    "### Address null values"
   ]
  },
  {
   "cell_type": "code",
   "execution_count": 8,
   "id": "75f9a234-834d-430c-b1a3-2aa62e495761",
   "metadata": {
    "tags": []
   },
   "outputs": [
    {
     "data": {
      "text/plain": [
       "id              0\n",
       "news_url      330\n",
       "title           0\n",
       "tweet_ids    1501\n",
       "label           0\n",
       "dtype: int64"
      ]
     },
     "execution_count": 8,
     "metadata": {},
     "output_type": "execute_result"
    }
   ],
   "source": [
    "news.isnull().sum()"
   ]
  },
  {
   "cell_type": "code",
   "execution_count": 9,
   "id": "09b29eda-1cff-4794-992b-a815aa8e8d15",
   "metadata": {
    "tags": []
   },
   "outputs": [
    {
     "data": {
      "text/plain": [
       "Text(0.5, 1.0, 'Features which have null values')"
      ]
     },
     "execution_count": 9,
     "metadata": {},
     "output_type": "execute_result"
    },
    {
     "data": {
      "image/png": "[encoded data removed]",
      "text/plain": [
       "<Figure size 700x400 with 1 Axes>"
      ]
     },
     "metadata": {},
     "output_type": "display_data"
    }
   ],
   "source": [
    "plt.figure(figsize=(7, 4))\n",
    "news[news.columns[news.isna().sum() >= 0]].isna().sum().sort_values().plot.bar()\n",
    "plt.title(\"Features which have null values\")"
   ]
  },
  {
   "cell_type": "code",
   "execution_count": 10,
   "id": "53e42119-ff87-4f92-aaad-76ffcd12e7b4",
   "metadata": {
    "tags": []
   },
   "outputs": [
    {
     "data": {
      "text/plain": [
       "id           0\n",
       "news_url     0\n",
       "title        0\n",
       "tweet_ids    0\n",
       "label        0\n",
       "dtype: int64"
      ]
     },
     "execution_count": 10,
     "metadata": {},
     "output_type": "execute_result"
    }
   ],
   "source": [
    "news.dropna(inplace=True)\n",
    "news.isnull().sum()"
   ]
  },
  {
   "cell_type": "markdown",
   "id": "7255afcb-ecb2-4e83-9ad2-251524227652",
   "metadata": {
    "tags": []
   },
   "source": [
    "### Address data imbalance"
   ]
  },
  {
   "cell_type": "code",
   "execution_count": 11,
   "id": "caf8e4b7-0f61-4ce6-9610-d1777c82a046",
   "metadata": {
    "tags": []
   },
   "outputs": [
    {
     "data": {
      "text/plain": [
       "real    16120\n",
       "fake     5287\n",
       "Name: label, dtype: int64"
      ]
     },
     "execution_count": 11,
     "metadata": {},
     "output_type": "execute_result"
    }
   ],
   "source": [
    "news.label.value_counts()"
   ]
  },
  {
   "cell_type": "code",
   "execution_count": 12,
   "id": "5fc000c8-b08b-471f-b9fb-262d3bf06b3d",
   "metadata": {
    "tags": []
   },
   "outputs": [
    {
     "data": {
      "image/png": "[encoded data removed]",
      "text/plain": [
       "<Figure size 1000x500 with 1 Axes>"
      ]
     },
     "metadata": {},
     "output_type": "display_data"
    }
   ],
   "source": [
    "labels = [\"Real\", 'Fake']\n",
    "sizes = [news.label.value_counts()[0], news.label.value_counts()[1]]\n",
    "\n",
    "plt.figure(figsize = (10,5))\n",
    "plt.pie(sizes, labels=labels,explode=[0, 0.1], autopct='%1.1f%%', shadow=True)\n",
    "plt.legend(labels)\n",
    "plt.title('The percentage of Real and Fake Requests in dataset')\n",
    "plt.show()"
   ]
  },
  {
   "cell_type": "code",
   "execution_count": 13,
   "id": "5e70acee-44cc-459b-8061-60d16509cfbe",
   "metadata": {
    "tags": []
   },
   "outputs": [
    {
     "name": "stdout",
     "output_type": "stream",
     "text": [
      "fake    16120\n",
      "real    16120\n",
      "Name: label, dtype: int64\n"
     ]
    }
   ],
   "source": [
    "X = news.drop('label', axis=1)\n",
    "y = news['label']\n",
    "\n",
    "oversampler = RandomOverSampler(random_state=777)\n",
    "X_resampled, y_resampled = oversampler.fit_resample(X, y)\n",
    "news_balanced = pd.concat([X_resampled, y_resampled], axis=1)\n",
    "\n",
    "print(news_balanced['label'].value_counts())"
   ]
  },
  {
   "cell_type": "code",
   "execution_count": 14,
   "id": "5fc3c555-af5b-4320-94dd-7321a67c4729",
   "metadata": {
    "tags": []
   },
   "outputs": [
    {
     "data": {
      "image/png": "[encoded data removed]",
      "text/plain": [
       "<Figure size 1000x500 with 1 Axes>"
      ]
     },
     "metadata": {},
     "output_type": "display_data"
    }
   ],
   "source": [
    "labels = [\"Real\", 'Fake']\n",
    "sizes = [news_balanced.label.value_counts()[0], news_balanced.label.value_counts()[1]]\n",
    "\n",
    "plt.figure(figsize = (10,5))\n",
    "plt.pie(sizes, labels=labels,explode=[0, 0.1], autopct='%1.1f%%', shadow=True)\n",
    "plt.legend(labels)\n",
    "plt.title('The percentage of Real and Fake tweets in dataset')\n",
    "plt.show()"
   ]
  },
  {
   "cell_type": "code",
   "execution_count": 15,
   "id": "b7c78011-8f8d-4280-b9fc-b70bd020f4b7",
   "metadata": {
    "tags": []
   },
   "outputs": [
    {
     "name": "stdout",
     "output_type": "stream",
     "text": [
      "Total number of training samples: 32240\n",
      "Number of training samples: 25792\n",
      "Number of testing samples: 6448\n"
     ]
    }
   ],
   "source": [
    "# Split the news into training and testing sets\n",
    "train_news, test_news = train_test_split(news_balanced, test_size=0.2, random_state=42)\n",
    "\n",
    "print(f\"Total number of training samples: {len(news_balanced)}\")\n",
    "print(f\"Number of training samples: {len(train_news)}\")\n",
    "print(f\"Number of testing samples: {len(test_news)}\")"
   ]
  },
  {
   "cell_type": "markdown",
   "id": "e56e134c-f151-4cab-a838-ef121938a001",
   "metadata": {
    "tags": []
   },
   "source": [
    "## Tokenizing and Bagging data"
   ]
  },
  {
   "cell_type": "code",
   "execution_count": 16,
   "id": "80521075-4b13-4f29-9738-f58c2d55c00d",
   "metadata": {
    "tags": []
   },
   "outputs": [],
   "source": [
    "stop_words = set(stopwords.words('english'))\n",
    "lemmatizer = WordNetLemmatizer()\n",
    "\n",
    "def preprocess_title(title):\n",
    "\n",
    "    title = title.lower()\n",
    "    \n",
    "    words = nltk.word_tokenize(title)\n",
    "    words = [word for word in words if word not in stop_words]\n",
    "    words = [lemmatizer.lemmatize(word) for word in words]\n",
    "    \n",
    "    title = ' '.join(words)\n",
    "\n",
    "    return title\n",
    "\n",
    "# Call preprocessing to title column\n",
    "news_balanced['title'] = news_balanced['title'].apply(preprocess_title)\n",
    "\n",
    "# Create a bag-of-words representation of the title data\n",
    "vectorizer = CountVectorizer()\n",
    "X = vectorizer.fit_transform(news_balanced['title'])\n",
    "\n",
    "y = news_balanced['label']"
   ]
  },
  {
   "cell_type": "markdown",
   "id": "6663e9fe-e0f0-4480-b062-84af6f6adef0",
   "metadata": {
    "tags": []
   },
   "source": [
    "## Split news data into training and testing datasets"
   ]
  },
  {
   "cell_type": "code",
   "execution_count": 17,
   "id": "9401d8fb-b1c7-49a2-8ad0-51f352b99183",
   "metadata": {
    "tags": []
   },
   "outputs": [
    {
     "name": "stdout",
     "output_type": "stream",
     "text": [
      "Total training samples: 25792\n",
      "Total testing samples: 6448\n"
     ]
    }
   ],
   "source": [
    "X_train, X_test, y_train, y_test = train_test_split(X, y, test_size=0.2, random_state=777)\n",
    "\n",
    "print(f\"Total training samples: {X_train.shape[0]}\")\n",
    "print(f\"Total testing samples: {X_test.shape[0]}\")"
   ]
  },
  {
   "cell_type": "markdown",
   "id": "3207ad4c-3471-445b-b775-6c4e39114eec",
   "metadata": {},
   "source": [
    "## Generate confusion matrix"
   ]
  },
  {
   "cell_type": "code",
   "execution_count": 18,
   "id": "7a1d940f-8631-43ee-803c-1a416409263b",
   "metadata": {
    "tags": []
   },
   "outputs": [
    {
     "data": {
      "image/png": "[encoded data removed]",
      "text/plain": [
       "<Figure size 800x500 with 2 Axes>"
      ]
     },
     "metadata": {},
     "output_type": "display_data"
    }
   ],
   "source": [
    "clf = LogisticRegression(max_iter=1000, random_state=777)\n",
    "clf.fit(X_train, y_train)\n",
    "\n",
    "y_pred = clf.predict(X_test)\n",
    "\n",
    "cm = confusion_matrix(y_test, y_pred, labels=['real', 'fake'])\n",
    "\n",
    "disp = ConfusionMatrixDisplay(confusion_matrix=cm, display_labels=['Real', 'Fake'])\n",
    "\n",
    "fig, ax = plt.subplots(figsize=(8, 5))\n",
    "disp.plot(ax=ax, cmap='Blues')\n",
    "plt.title('News Confusion Matrix')\n",
    "plt.show()"
   ]
  },
  {
   "cell_type": "markdown",
   "id": "51779a5e-9278-4ab2-a0a4-d73845d2c6a0",
   "metadata": {},
   "source": [
    "## Try PyCaret AutoML to compare classifiers"
   ]
  },
  {
   "cell_type": "code",
   "execution_count": 19,
   "id": "56342bb4-d014-49fa-a50b-785e610dea71",
   "metadata": {
    "tags": []
   },
   "outputs": [
    {
     "data": {
      "text/html": [
       "<style type=\"text/css\">\n",
       "#T_73823_row9_col1 {\n",
       "  background-color: lightgreen;\n",
       "}\n",
       "</style>\n",
       "<table id=\"T_73823\">\n",
       "  <thead>\n",
       "    <tr>\n",
       "      <th class=\"blank level0\" >&nbsp;</th>\n",
       "      <th id=\"T_73823_level0_col0\" class=\"col_heading level0 col0\" >Description</th>\n",
       "      <th id=\"T_73823_level0_col1\" class=\"col_heading level0 col1\" >Value</th>\n",
       "    </tr>\n",
       "  </thead>\n",
       "  <tbody>\n",
       "    <tr>\n",
       "      <th id=\"T_73823_level0_row0\" class=\"row_heading level0 row0\" >0</th>\n",
       "      <td id=\"T_73823_row0_col0\" class=\"data row0 col0\" >Session id</td>\n",
       "      <td id=\"T_73823_row0_col1\" class=\"data row0 col1\" >777</td>\n",
       "    </tr>\n",
       "    <tr>\n",
       "      <th id=\"T_73823_level0_row1\" class=\"row_heading level0 row1\" >1</th>\n",
       "      <td id=\"T_73823_row1_col0\" class=\"data row1 col0\" >Target</td>\n",
       "      <td id=\"T_73823_row1_col1\" class=\"data row1 col1\" >label</td>\n",
       "    </tr>\n",
       "    <tr>\n",
       "      <th id=\"T_73823_level0_row2\" class=\"row_heading level0 row2\" >2</th>\n",
       "      <td id=\"T_73823_row2_col0\" class=\"data row2 col0\" >Target type</td>\n",
       "      <td id=\"T_73823_row2_col1\" class=\"data row2 col1\" >Binary</td>\n",
       "    </tr>\n",
       "    <tr>\n",
       "      <th id=\"T_73823_level0_row3\" class=\"row_heading level0 row3\" >3</th>\n",
       "      <td id=\"T_73823_row3_col0\" class=\"data row3 col0\" >Target mapping</td>\n",
       "      <td id=\"T_73823_row3_col1\" class=\"data row3 col1\" >fake: 0, real: 1</td>\n",
       "    </tr>\n",
       "    <tr>\n",
       "      <th id=\"T_73823_level0_row4\" class=\"row_heading level0 row4\" >4</th>\n",
       "      <td id=\"T_73823_row4_col0\" class=\"data row4 col0\" >Original data shape</td>\n",
       "      <td id=\"T_73823_row4_col1\" class=\"data row4 col1\" >(25792, 5)</td>\n",
       "    </tr>\n",
       "    <tr>\n",
       "      <th id=\"T_73823_level0_row5\" class=\"row_heading level0 row5\" >5</th>\n",
       "      <td id=\"T_73823_row5_col0\" class=\"data row5 col0\" >Transformed data shape</td>\n",
       "      <td id=\"T_73823_row5_col1\" class=\"data row5 col1\" >(25792, 5)</td>\n",
       "    </tr>\n",
       "    <tr>\n",
       "      <th id=\"T_73823_level0_row6\" class=\"row_heading level0 row6\" >6</th>\n",
       "      <td id=\"T_73823_row6_col0\" class=\"data row6 col0\" >Transformed train set shape</td>\n",
       "      <td id=\"T_73823_row6_col1\" class=\"data row6 col1\" >(18054, 5)</td>\n",
       "    </tr>\n",
       "    <tr>\n",
       "      <th id=\"T_73823_level0_row7\" class=\"row_heading level0 row7\" >7</th>\n",
       "      <td id=\"T_73823_row7_col0\" class=\"data row7 col0\" >Transformed test set shape</td>\n",
       "      <td id=\"T_73823_row7_col1\" class=\"data row7 col1\" >(7738, 5)</td>\n",
       "    </tr>\n",
       "    <tr>\n",
       "      <th id=\"T_73823_level0_row8\" class=\"row_heading level0 row8\" >8</th>\n",
       "      <td id=\"T_73823_row8_col0\" class=\"data row8 col0\" >Categorical features</td>\n",
       "      <td id=\"T_73823_row8_col1\" class=\"data row8 col1\" >4</td>\n",
       "    </tr>\n",
       "    <tr>\n",
       "      <th id=\"T_73823_level0_row9\" class=\"row_heading level0 row9\" >9</th>\n",
       "      <td id=\"T_73823_row9_col0\" class=\"data row9 col0\" >Preprocess</td>\n",
       "      <td id=\"T_73823_row9_col1\" class=\"data row9 col1\" >True</td>\n",
       "    </tr>\n",
       "    <tr>\n",
       "      <th id=\"T_73823_level0_row10\" class=\"row_heading level0 row10\" >10</th>\n",
       "      <td id=\"T_73823_row10_col0\" class=\"data row10 col0\" >Imputation type</td>\n",
       "      <td id=\"T_73823_row10_col1\" class=\"data row10 col1\" >simple</td>\n",
       "    </tr>\n",
       "    <tr>\n",
       "      <th id=\"T_73823_level0_row11\" class=\"row_heading level0 row11\" >11</th>\n",
       "      <td id=\"T_73823_row11_col0\" class=\"data row11 col0\" >Numeric imputation</td>\n",
       "      <td id=\"T_73823_row11_col1\" class=\"data row11 col1\" >mean</td>\n",
       "    </tr>\n",
       "    <tr>\n",
       "      <th id=\"T_73823_level0_row12\" class=\"row_heading level0 row12\" >12</th>\n",
       "      <td id=\"T_73823_row12_col0\" class=\"data row12 col0\" >Categorical imputation</td>\n",
       "      <td id=\"T_73823_row12_col1\" class=\"data row12 col1\" >mode</td>\n",
       "    </tr>\n",
       "    <tr>\n",
       "      <th id=\"T_73823_level0_row13\" class=\"row_heading level0 row13\" >13</th>\n",
       "      <td id=\"T_73823_row13_col0\" class=\"data row13 col0\" >Maximum one-hot encoding</td>\n",
       "      <td id=\"T_73823_row13_col1\" class=\"data row13 col1\" >25</td>\n",
       "    </tr>\n",
       "    <tr>\n",
       "      <th id=\"T_73823_level0_row14\" class=\"row_heading level0 row14\" >14</th>\n",
       "      <td id=\"T_73823_row14_col0\" class=\"data row14 col0\" >Encoding method</td>\n",
       "      <td id=\"T_73823_row14_col1\" class=\"data row14 col1\" >None</td>\n",
       "    </tr>\n",
       "    <tr>\n",
       "      <th id=\"T_73823_level0_row15\" class=\"row_heading level0 row15\" >15</th>\n",
       "      <td id=\"T_73823_row15_col0\" class=\"data row15 col0\" >Fold Generator</td>\n",
       "      <td id=\"T_73823_row15_col1\" class=\"data row15 col1\" >StratifiedKFold</td>\n",
       "    </tr>\n",
       "    <tr>\n",
       "      <th id=\"T_73823_level0_row16\" class=\"row_heading level0 row16\" >16</th>\n",
       "      <td id=\"T_73823_row16_col0\" class=\"data row16 col0\" >Fold Number</td>\n",
       "      <td id=\"T_73823_row16_col1\" class=\"data row16 col1\" >10</td>\n",
       "    </tr>\n",
       "    <tr>\n",
       "      <th id=\"T_73823_level0_row17\" class=\"row_heading level0 row17\" >17</th>\n",
       "      <td id=\"T_73823_row17_col0\" class=\"data row17 col0\" >CPU Jobs</td>\n",
       "      <td id=\"T_73823_row17_col1\" class=\"data row17 col1\" >-1</td>\n",
       "    </tr>\n",
       "    <tr>\n",
       "      <th id=\"T_73823_level0_row18\" class=\"row_heading level0 row18\" >18</th>\n",
       "      <td id=\"T_73823_row18_col0\" class=\"data row18 col0\" >Use GPU</td>\n",
       "      <td id=\"T_73823_row18_col1\" class=\"data row18 col1\" >False</td>\n",
       "    </tr>\n",
       "    <tr>\n",
       "      <th id=\"T_73823_level0_row19\" class=\"row_heading level0 row19\" >19</th>\n",
       "      <td id=\"T_73823_row19_col0\" class=\"data row19 col0\" >Log Experiment</td>\n",
       "      <td id=\"T_73823_row19_col1\" class=\"data row19 col1\" >False</td>\n",
       "    </tr>\n",
       "    <tr>\n",
       "      <th id=\"T_73823_level0_row20\" class=\"row_heading level0 row20\" >20</th>\n",
       "      <td id=\"T_73823_row20_col0\" class=\"data row20 col0\" >Experiment Name</td>\n",
       "      <td id=\"T_73823_row20_col1\" class=\"data row20 col1\" >clf-default-name</td>\n",
       "    </tr>\n",
       "    <tr>\n",
       "      <th id=\"T_73823_level0_row21\" class=\"row_heading level0 row21\" >21</th>\n",
       "      <td id=\"T_73823_row21_col0\" class=\"data row21 col0\" >USI</td>\n",
       "      <td id=\"T_73823_row21_col1\" class=\"data row21 col1\" >da54</td>\n",
       "    </tr>\n",
       "  </tbody>\n",
       "</table>\n"
      ],
      "text/plain": [
       "<pandas.io.formats.style.Styler at 0x1f77dcc3970>"
      ]
     },
     "metadata": {},
     "output_type": "display_data"
    },
    {
     "data": {
      "text/html": [],
      "text/plain": [
       "<IPython.core.display.HTML object>"
      ]
     },
     "metadata": {},
     "output_type": "display_data"
    },
    {
     "data": {
      "text/html": [
       "<style type=\"text/css\">\n",
       "#T_5bb39 th {\n",
       "  text-align: left;\n",
       "}\n",
       "#T_5bb39_row0_col0, #T_5bb39_row0_col3, #T_5bb39_row0_col4, #T_5bb39_row1_col0, #T_5bb39_row1_col1, #T_5bb39_row1_col2, #T_5bb39_row1_col3, #T_5bb39_row1_col4, #T_5bb39_row1_col5, #T_5bb39_row1_col6, #T_5bb39_row1_col7, #T_5bb39_row2_col0, #T_5bb39_row2_col1, #T_5bb39_row2_col2, #T_5bb39_row2_col3, #T_5bb39_row2_col4, #T_5bb39_row2_col5, #T_5bb39_row2_col6, #T_5bb39_row2_col7, #T_5bb39_row3_col0, #T_5bb39_row3_col1, #T_5bb39_row3_col2, #T_5bb39_row3_col3, #T_5bb39_row3_col4, #T_5bb39_row3_col5, #T_5bb39_row3_col6, #T_5bb39_row3_col7, #T_5bb39_row4_col0, #T_5bb39_row4_col1, #T_5bb39_row4_col2, #T_5bb39_row4_col4, #T_5bb39_row4_col5, #T_5bb39_row4_col6, #T_5bb39_row4_col7, #T_5bb39_row5_col0, #T_5bb39_row5_col2, #T_5bb39_row5_col3, #T_5bb39_row5_col7, #T_5bb39_row6_col0, #T_5bb39_row6_col1, #T_5bb39_row6_col2, #T_5bb39_row6_col3, #T_5bb39_row6_col4, #T_5bb39_row6_col5, #T_5bb39_row6_col6, #T_5bb39_row6_col7, #T_5bb39_row7_col0, #T_5bb39_row7_col1, #T_5bb39_row7_col2, #T_5bb39_row7_col3, #T_5bb39_row7_col4, #T_5bb39_row7_col6, #T_5bb39_row7_col7, #T_5bb39_row8_col0, #T_5bb39_row8_col1, #T_5bb39_row8_col2, #T_5bb39_row8_col4, #T_5bb39_row8_col5, #T_5bb39_row8_col6, #T_5bb39_row8_col7, #T_5bb39_row9_col0, #T_5bb39_row9_col1, #T_5bb39_row9_col2, #T_5bb39_row9_col3, #T_5bb39_row9_col4, #T_5bb39_row9_col5, #T_5bb39_row9_col6, #T_5bb39_row9_col7, #T_5bb39_row10_col0, #T_5bb39_row10_col1, #T_5bb39_row10_col2, #T_5bb39_row10_col3, #T_5bb39_row10_col4, #T_5bb39_row10_col5, #T_5bb39_row10_col6, #T_5bb39_row10_col7, #T_5bb39_row11_col0, #T_5bb39_row11_col1, #T_5bb39_row11_col2, #T_5bb39_row11_col4, #T_5bb39_row11_col5, #T_5bb39_row11_col6, #T_5bb39_row11_col7, #T_5bb39_row12_col0, #T_5bb39_row12_col1, #T_5bb39_row12_col2, #T_5bb39_row12_col4, #T_5bb39_row12_col5, #T_5bb39_row12_col6, #T_5bb39_row12_col7, #T_5bb39_row13_col0, #T_5bb39_row13_col1, #T_5bb39_row13_col2, #T_5bb39_row13_col3, #T_5bb39_row13_col4, #T_5bb39_row13_col5, #T_5bb39_row13_col6, #T_5bb39_row13_col7, #T_5bb39_row14_col0, #T_5bb39_row14_col1, #T_5bb39_row14_col2, #T_5bb39_row14_col4, #T_5bb39_row14_col5, #T_5bb39_row14_col6, #T_5bb39_row14_col7, #T_5bb39_row15_col0, #T_5bb39_row15_col1, #T_5bb39_row15_col2, #T_5bb39_row15_col4, #T_5bb39_row15_col5, #T_5bb39_row15_col6, #T_5bb39_row15_col7 {\n",
       "  text-align: left;\n",
       "}\n",
       "#T_5bb39_row0_col1, #T_5bb39_row0_col2, #T_5bb39_row0_col5, #T_5bb39_row0_col6, #T_5bb39_row0_col7, #T_5bb39_row4_col3, #T_5bb39_row5_col1, #T_5bb39_row5_col4, #T_5bb39_row5_col5, #T_5bb39_row5_col6, #T_5bb39_row7_col5, #T_5bb39_row8_col3, #T_5bb39_row11_col3, #T_5bb39_row12_col3, #T_5bb39_row14_col3, #T_5bb39_row15_col3 {\n",
       "  text-align: left;\n",
       "  background-color: yellow;\n",
       "}\n",
       "#T_5bb39_row0_col8, #T_5bb39_row1_col8, #T_5bb39_row2_col8, #T_5bb39_row3_col8, #T_5bb39_row5_col8, #T_5bb39_row6_col8, #T_5bb39_row7_col8, #T_5bb39_row8_col8, #T_5bb39_row9_col8, #T_5bb39_row10_col8, #T_5bb39_row11_col8, #T_5bb39_row12_col8, #T_5bb39_row13_col8, #T_5bb39_row14_col8, #T_5bb39_row15_col8 {\n",
       "  text-align: left;\n",
       "  background-color: lightgrey;\n",
       "}\n",
       "#T_5bb39_row4_col8 {\n",
       "  text-align: left;\n",
       "  background-color: yellow;\n",
       "  background-color: lightgrey;\n",
       "}\n",
       "</style>\n",
       "<table id=\"T_5bb39\">\n",
       "  <thead>\n",
       "    <tr>\n",
       "      <th class=\"blank level0\" >&nbsp;</th>\n",
       "      <th id=\"T_5bb39_level0_col0\" class=\"col_heading level0 col0\" >Model</th>\n",
       "      <th id=\"T_5bb39_level0_col1\" class=\"col_heading level0 col1\" >Accuracy</th>\n",
       "      <th id=\"T_5bb39_level0_col2\" class=\"col_heading level0 col2\" >AUC</th>\n",
       "      <th id=\"T_5bb39_level0_col3\" class=\"col_heading level0 col3\" >Recall</th>\n",
       "      <th id=\"T_5bb39_level0_col4\" class=\"col_heading level0 col4\" >Prec.</th>\n",
       "      <th id=\"T_5bb39_level0_col5\" class=\"col_heading level0 col5\" >F1</th>\n",
       "      <th id=\"T_5bb39_level0_col6\" class=\"col_heading level0 col6\" >Kappa</th>\n",
       "      <th id=\"T_5bb39_level0_col7\" class=\"col_heading level0 col7\" >MCC</th>\n",
       "      <th id=\"T_5bb39_level0_col8\" class=\"col_heading level0 col8\" >TT (Sec)</th>\n",
       "    </tr>\n",
       "  </thead>\n",
       "  <tbody>\n",
       "    <tr>\n",
       "      <th id=\"T_5bb39_level0_row0\" class=\"row_heading level0 row0\" >gbc</th>\n",
       "      <td id=\"T_5bb39_row0_col0\" class=\"data row0 col0\" >Gradient Boosting Classifier</td>\n",
       "      <td id=\"T_5bb39_row0_col1\" class=\"data row0 col1\" >0.7259</td>\n",
       "      <td id=\"T_5bb39_row0_col2\" class=\"data row0 col2\" >0.7315</td>\n",
       "      <td id=\"T_5bb39_row0_col3\" class=\"data row0 col3\" >0.9989</td>\n",
       "      <td id=\"T_5bb39_row0_col4\" class=\"data row0 col4\" >0.6458</td>\n",
       "      <td id=\"T_5bb39_row0_col5\" class=\"data row0 col5\" >0.7844</td>\n",
       "      <td id=\"T_5bb39_row0_col6\" class=\"data row0 col6\" >0.4524</td>\n",
       "      <td id=\"T_5bb39_row0_col7\" class=\"data row0 col7\" >0.5398</td>\n",
       "      <td id=\"T_5bb39_row0_col8\" class=\"data row0 col8\" >1.4640</td>\n",
       "    </tr>\n",
       "    <tr>\n",
       "      <th id=\"T_5bb39_level0_row1\" class=\"row_heading level0 row1\" >ada</th>\n",
       "      <td id=\"T_5bb39_row1_col0\" class=\"data row1 col0\" >Ada Boost Classifier</td>\n",
       "      <td id=\"T_5bb39_row1_col1\" class=\"data row1 col1\" >0.7251</td>\n",
       "      <td id=\"T_5bb39_row1_col2\" class=\"data row1 col2\" >0.7313</td>\n",
       "      <td id=\"T_5bb39_row1_col3\" class=\"data row1 col3\" >0.9996</td>\n",
       "      <td id=\"T_5bb39_row1_col4\" class=\"data row1 col4\" >0.6450</td>\n",
       "      <td id=\"T_5bb39_row1_col5\" class=\"data row1 col5\" >0.7840</td>\n",
       "      <td id=\"T_5bb39_row1_col6\" class=\"data row1 col6\" >0.4508</td>\n",
       "      <td id=\"T_5bb39_row1_col7\" class=\"data row1 col7\" >0.5390</td>\n",
       "      <td id=\"T_5bb39_row1_col8\" class=\"data row1 col8\" >1.4460</td>\n",
       "    </tr>\n",
       "    <tr>\n",
       "      <th id=\"T_5bb39_level0_row2\" class=\"row_heading level0 row2\" >lightgbm</th>\n",
       "      <td id=\"T_5bb39_row2_col0\" class=\"data row2 col0\" >Light Gradient Boosting Machine</td>\n",
       "      <td id=\"T_5bb39_row2_col1\" class=\"data row2 col1\" >0.7251</td>\n",
       "      <td id=\"T_5bb39_row2_col2\" class=\"data row2 col2\" >0.7310</td>\n",
       "      <td id=\"T_5bb39_row2_col3\" class=\"data row2 col3\" >0.9992</td>\n",
       "      <td id=\"T_5bb39_row2_col4\" class=\"data row2 col4\" >0.6451</td>\n",
       "      <td id=\"T_5bb39_row2_col5\" class=\"data row2 col5\" >0.7840</td>\n",
       "      <td id=\"T_5bb39_row2_col6\" class=\"data row2 col6\" >0.4508</td>\n",
       "      <td id=\"T_5bb39_row2_col7\" class=\"data row2 col7\" >0.5387</td>\n",
       "      <td id=\"T_5bb39_row2_col8\" class=\"data row2 col8\" >1.5110</td>\n",
       "    </tr>\n",
       "    <tr>\n",
       "      <th id=\"T_5bb39_level0_row3\" class=\"row_heading level0 row3\" >xgboost</th>\n",
       "      <td id=\"T_5bb39_row3_col0\" class=\"data row3 col0\" >Extreme Gradient Boosting</td>\n",
       "      <td id=\"T_5bb39_row3_col1\" class=\"data row3 col1\" >0.7253</td>\n",
       "      <td id=\"T_5bb39_row3_col2\" class=\"data row3 col2\" >0.7309</td>\n",
       "      <td id=\"T_5bb39_row3_col3\" class=\"data row3 col3\" >0.9984</td>\n",
       "      <td id=\"T_5bb39_row3_col4\" class=\"data row3 col4\" >0.6454</td>\n",
       "      <td id=\"T_5bb39_row3_col5\" class=\"data row3 col5\" >0.7840</td>\n",
       "      <td id=\"T_5bb39_row3_col6\" class=\"data row3 col6\" >0.4512</td>\n",
       "      <td id=\"T_5bb39_row3_col7\" class=\"data row3 col7\" >0.5384</td>\n",
       "      <td id=\"T_5bb39_row3_col8\" class=\"data row3 col8\" >1.4450</td>\n",
       "    </tr>\n",
       "    <tr>\n",
       "      <th id=\"T_5bb39_level0_row4\" class=\"row_heading level0 row4\" >lda</th>\n",
       "      <td id=\"T_5bb39_row4_col0\" class=\"data row4 col0\" >Linear Discriminant Analysis</td>\n",
       "      <td id=\"T_5bb39_row4_col1\" class=\"data row4 col1\" >0.7254</td>\n",
       "      <td id=\"T_5bb39_row4_col2\" class=\"data row4 col2\" >0.7304</td>\n",
       "      <td id=\"T_5bb39_row4_col3\" class=\"data row4 col3\" >0.9999</td>\n",
       "      <td id=\"T_5bb39_row4_col4\" class=\"data row4 col4\" >0.6452</td>\n",
       "      <td id=\"T_5bb39_row4_col5\" class=\"data row4 col5\" >0.7843</td>\n",
       "      <td id=\"T_5bb39_row4_col6\" class=\"data row4 col6\" >0.4513</td>\n",
       "      <td id=\"T_5bb39_row4_col7\" class=\"data row4 col7\" >0.5397</td>\n",
       "      <td id=\"T_5bb39_row4_col8\" class=\"data row4 col8\" >1.3940</td>\n",
       "    </tr>\n",
       "    <tr>\n",
       "      <th id=\"T_5bb39_level0_row5\" class=\"row_heading level0 row5\" >rf</th>\n",
       "      <td id=\"T_5bb39_row5_col0\" class=\"data row5 col0\" >Random Forest Classifier</td>\n",
       "      <td id=\"T_5bb39_row5_col1\" class=\"data row5 col1\" >0.7259</td>\n",
       "      <td id=\"T_5bb39_row5_col2\" class=\"data row5 col2\" >0.7302</td>\n",
       "      <td id=\"T_5bb39_row5_col3\" class=\"data row5 col3\" >0.9987</td>\n",
       "      <td id=\"T_5bb39_row5_col4\" class=\"data row5 col4\" >0.6459</td>\n",
       "      <td id=\"T_5bb39_row5_col5\" class=\"data row5 col5\" >0.7844</td>\n",
       "      <td id=\"T_5bb39_row5_col6\" class=\"data row5 col6\" >0.4524</td>\n",
       "      <td id=\"T_5bb39_row5_col7\" class=\"data row5 col7\" >0.5396</td>\n",
       "      <td id=\"T_5bb39_row5_col8\" class=\"data row5 col8\" >1.4700</td>\n",
       "    </tr>\n",
       "    <tr>\n",
       "      <th id=\"T_5bb39_level0_row6\" class=\"row_heading level0 row6\" >et</th>\n",
       "      <td id=\"T_5bb39_row6_col0\" class=\"data row6 col0\" >Extra Trees Classifier</td>\n",
       "      <td id=\"T_5bb39_row6_col1\" class=\"data row6 col1\" >0.7258</td>\n",
       "      <td id=\"T_5bb39_row6_col2\" class=\"data row6 col2\" >0.7299</td>\n",
       "      <td id=\"T_5bb39_row6_col3\" class=\"data row6 col3\" >0.9984</td>\n",
       "      <td id=\"T_5bb39_row6_col4\" class=\"data row6 col4\" >0.6458</td>\n",
       "      <td id=\"T_5bb39_row6_col5\" class=\"data row6 col5\" >0.7843</td>\n",
       "      <td id=\"T_5bb39_row6_col6\" class=\"data row6 col6\" >0.4522</td>\n",
       "      <td id=\"T_5bb39_row6_col7\" class=\"data row6 col7\" >0.5392</td>\n",
       "      <td id=\"T_5bb39_row6_col8\" class=\"data row6 col8\" >1.4710</td>\n",
       "    </tr>\n",
       "    <tr>\n",
       "      <th id=\"T_5bb39_level0_row7\" class=\"row_heading level0 row7\" >catboost</th>\n",
       "      <td id=\"T_5bb39_row7_col0\" class=\"data row7 col0\" >CatBoost Classifier</td>\n",
       "      <td id=\"T_5bb39_row7_col1\" class=\"data row7 col1\" >0.7258</td>\n",
       "      <td id=\"T_5bb39_row7_col2\" class=\"data row7 col2\" >0.7299</td>\n",
       "      <td id=\"T_5bb39_row7_col3\" class=\"data row7 col3\" >0.9989</td>\n",
       "      <td id=\"T_5bb39_row7_col4\" class=\"data row7 col4\" >0.6457</td>\n",
       "      <td id=\"T_5bb39_row7_col5\" class=\"data row7 col5\" >0.7844</td>\n",
       "      <td id=\"T_5bb39_row7_col6\" class=\"data row7 col6\" >0.4522</td>\n",
       "      <td id=\"T_5bb39_row7_col7\" class=\"data row7 col7\" >0.5396</td>\n",
       "      <td id=\"T_5bb39_row7_col8\" class=\"data row7 col8\" >1.4760</td>\n",
       "    </tr>\n",
       "    <tr>\n",
       "      <th id=\"T_5bb39_level0_row8\" class=\"row_heading level0 row8\" >lr</th>\n",
       "      <td id=\"T_5bb39_row8_col0\" class=\"data row8 col0\" >Logistic Regression</td>\n",
       "      <td id=\"T_5bb39_row8_col1\" class=\"data row8 col1\" >0.7254</td>\n",
       "      <td id=\"T_5bb39_row8_col2\" class=\"data row8 col2\" >0.7296</td>\n",
       "      <td id=\"T_5bb39_row8_col3\" class=\"data row8 col3\" >0.9999</td>\n",
       "      <td id=\"T_5bb39_row8_col4\" class=\"data row8 col4\" >0.6452</td>\n",
       "      <td id=\"T_5bb39_row8_col5\" class=\"data row8 col5\" >0.7843</td>\n",
       "      <td id=\"T_5bb39_row8_col6\" class=\"data row8 col6\" >0.4513</td>\n",
       "      <td id=\"T_5bb39_row8_col7\" class=\"data row8 col7\" >0.5397</td>\n",
       "      <td id=\"T_5bb39_row8_col8\" class=\"data row8 col8\" >1.6650</td>\n",
       "    </tr>\n",
       "    <tr>\n",
       "      <th id=\"T_5bb39_level0_row9\" class=\"row_heading level0 row9\" >dt</th>\n",
       "      <td id=\"T_5bb39_row9_col0\" class=\"data row9 col0\" >Decision Tree Classifier</td>\n",
       "      <td id=\"T_5bb39_row9_col1\" class=\"data row9 col1\" >0.7258</td>\n",
       "      <td id=\"T_5bb39_row9_col2\" class=\"data row9 col2\" >0.7296</td>\n",
       "      <td id=\"T_5bb39_row9_col3\" class=\"data row9 col3\" >0.9984</td>\n",
       "      <td id=\"T_5bb39_row9_col4\" class=\"data row9 col4\" >0.6458</td>\n",
       "      <td id=\"T_5bb39_row9_col5\" class=\"data row9 col5\" >0.7843</td>\n",
       "      <td id=\"T_5bb39_row9_col6\" class=\"data row9 col6\" >0.4522</td>\n",
       "      <td id=\"T_5bb39_row9_col7\" class=\"data row9 col7\" >0.5392</td>\n",
       "      <td id=\"T_5bb39_row9_col8\" class=\"data row9 col8\" >1.4710</td>\n",
       "    </tr>\n",
       "    <tr>\n",
       "      <th id=\"T_5bb39_level0_row10\" class=\"row_heading level0 row10\" >knn</th>\n",
       "      <td id=\"T_5bb39_row10_col0\" class=\"data row10 col0\" >K Neighbors Classifier</td>\n",
       "      <td id=\"T_5bb39_row10_col1\" class=\"data row10 col1\" >0.7247</td>\n",
       "      <td id=\"T_5bb39_row10_col2\" class=\"data row10 col2\" >0.7284</td>\n",
       "      <td id=\"T_5bb39_row10_col3\" class=\"data row10 col3\" >0.9983</td>\n",
       "      <td id=\"T_5bb39_row10_col4\" class=\"data row10 col4\" >0.6449</td>\n",
       "      <td id=\"T_5bb39_row10_col5\" class=\"data row10 col5\" >0.7836</td>\n",
       "      <td id=\"T_5bb39_row10_col6\" class=\"data row10 col6\" >0.4500</td>\n",
       "      <td id=\"T_5bb39_row10_col7\" class=\"data row10 col7\" >0.5374</td>\n",
       "      <td id=\"T_5bb39_row10_col8\" class=\"data row10 col8\" >1.7940</td>\n",
       "    </tr>\n",
       "    <tr>\n",
       "      <th id=\"T_5bb39_level0_row11\" class=\"row_heading level0 row11\" >nb</th>\n",
       "      <td id=\"T_5bb39_row11_col0\" class=\"data row11 col0\" >Naive Bayes</td>\n",
       "      <td id=\"T_5bb39_row11_col1\" class=\"data row11 col1\" >0.7249</td>\n",
       "      <td id=\"T_5bb39_row11_col2\" class=\"data row11 col2\" >0.7211</td>\n",
       "      <td id=\"T_5bb39_row11_col3\" class=\"data row11 col3\" >0.9999</td>\n",
       "      <td id=\"T_5bb39_row11_col4\" class=\"data row11 col4\" >0.6448</td>\n",
       "      <td id=\"T_5bb39_row11_col5\" class=\"data row11 col5\" >0.7840</td>\n",
       "      <td id=\"T_5bb39_row11_col6\" class=\"data row11 col6\" >0.4504</td>\n",
       "      <td id=\"T_5bb39_row11_col7\" class=\"data row11 col7\" >0.5390</td>\n",
       "      <td id=\"T_5bb39_row11_col8\" class=\"data row11 col8\" >1.5650</td>\n",
       "    </tr>\n",
       "    <tr>\n",
       "      <th id=\"T_5bb39_level0_row12\" class=\"row_heading level0 row12\" >qda</th>\n",
       "      <td id=\"T_5bb39_row12_col0\" class=\"data row12 col0\" >Quadratic Discriminant Analysis</td>\n",
       "      <td id=\"T_5bb39_row12_col1\" class=\"data row12 col1\" >0.7015</td>\n",
       "      <td id=\"T_5bb39_row12_col2\" class=\"data row12 col2\" >0.6869</td>\n",
       "      <td id=\"T_5bb39_row12_col3\" class=\"data row12 col3\" >0.9999</td>\n",
       "      <td id=\"T_5bb39_row12_col4\" class=\"data row12 col4\" >0.6258</td>\n",
       "      <td id=\"T_5bb39_row12_col5\" class=\"data row12 col5\" >0.7698</td>\n",
       "      <td id=\"T_5bb39_row12_col6\" class=\"data row12 col6\" >0.4037</td>\n",
       "      <td id=\"T_5bb39_row12_col7\" class=\"data row12 col7\" >0.5027</td>\n",
       "      <td id=\"T_5bb39_row12_col8\" class=\"data row12 col8\" >1.4350</td>\n",
       "    </tr>\n",
       "    <tr>\n",
       "      <th id=\"T_5bb39_level0_row13\" class=\"row_heading level0 row13\" >dummy</th>\n",
       "      <td id=\"T_5bb39_row13_col0\" class=\"data row13 col0\" >Dummy Classifier</td>\n",
       "      <td id=\"T_5bb39_row13_col1\" class=\"data row13 col1\" >0.5009</td>\n",
       "      <td id=\"T_5bb39_row13_col2\" class=\"data row13 col2\" >0.5000</td>\n",
       "      <td id=\"T_5bb39_row13_col3\" class=\"data row13 col3\" >0.0000</td>\n",
       "      <td id=\"T_5bb39_row13_col4\" class=\"data row13 col4\" >0.0000</td>\n",
       "      <td id=\"T_5bb39_row13_col5\" class=\"data row13 col5\" >0.0000</td>\n",
       "      <td id=\"T_5bb39_row13_col6\" class=\"data row13 col6\" >0.0000</td>\n",
       "      <td id=\"T_5bb39_row13_col7\" class=\"data row13 col7\" >0.0000</td>\n",
       "      <td id=\"T_5bb39_row13_col8\" class=\"data row13 col8\" >1.4480</td>\n",
       "    </tr>\n",
       "    <tr>\n",
       "      <th id=\"T_5bb39_level0_row14\" class=\"row_heading level0 row14\" >svm</th>\n",
       "      <td id=\"T_5bb39_row14_col0\" class=\"data row14 col0\" >SVM - Linear Kernel</td>\n",
       "      <td id=\"T_5bb39_row14_col1\" class=\"data row14 col1\" >0.7246</td>\n",
       "      <td id=\"T_5bb39_row14_col2\" class=\"data row14 col2\" >0.0000</td>\n",
       "      <td id=\"T_5bb39_row14_col3\" class=\"data row14 col3\" >0.9999</td>\n",
       "      <td id=\"T_5bb39_row14_col4\" class=\"data row14 col4\" >0.6445</td>\n",
       "      <td id=\"T_5bb39_row14_col5\" class=\"data row14 col5\" >0.7838</td>\n",
       "      <td id=\"T_5bb39_row14_col6\" class=\"data row14 col6\" >0.4498</td>\n",
       "      <td id=\"T_5bb39_row14_col7\" class=\"data row14 col7\" >0.5385</td>\n",
       "      <td id=\"T_5bb39_row14_col8\" class=\"data row14 col8\" >1.4730</td>\n",
       "    </tr>\n",
       "    <tr>\n",
       "      <th id=\"T_5bb39_level0_row15\" class=\"row_heading level0 row15\" >ridge</th>\n",
       "      <td id=\"T_5bb39_row15_col0\" class=\"data row15 col0\" >Ridge Classifier</td>\n",
       "      <td id=\"T_5bb39_row15_col1\" class=\"data row15 col1\" >0.7254</td>\n",
       "      <td id=\"T_5bb39_row15_col2\" class=\"data row15 col2\" >0.0000</td>\n",
       "      <td id=\"T_5bb39_row15_col3\" class=\"data row15 col3\" >0.9999</td>\n",
       "      <td id=\"T_5bb39_row15_col4\" class=\"data row15 col4\" >0.6452</td>\n",
       "      <td id=\"T_5bb39_row15_col5\" class=\"data row15 col5\" >0.7843</td>\n",
       "      <td id=\"T_5bb39_row15_col6\" class=\"data row15 col6\" >0.4513</td>\n",
       "      <td id=\"T_5bb39_row15_col7\" class=\"data row15 col7\" >0.5397</td>\n",
       "      <td id=\"T_5bb39_row15_col8\" class=\"data row15 col8\" >1.4420</td>\n",
       "    </tr>\n",
       "  </tbody>\n",
       "</table>\n"
      ],
      "text/plain": [
       "<pandas.io.formats.style.Styler at 0x1f76d30bcd0>"
      ]
     },
     "metadata": {},
     "output_type": "display_data"
    },
    {
     "data": {
      "application/vnd.jupyter.widget-view+json": {
       "model_id": "",
       "version_major": 2,
       "version_minor": 0
      },
      "text/plain": [
       "Processing:   0%|          | 0/69 [00:00<?, ?it/s]"
      ]
     },
     "metadata": {},
     "output_type": "display_data"
    }
   ],
   "source": [
    "setup(data=train_news, target='label', session_id=777)\n",
    "# setup(data=train_news, target='label', session_id=777, use_gpu=True)\n",
    "\n",
    "best_model = compare_models(sort='AUC')"
   ]
  },
  {
   "cell_type": "markdown",
   "id": "73b7933f-9451-4169-ae0f-24ddb52b0c53",
   "metadata": {
    "tags": []
   },
   "source": [
    "### Tune model optimizing to AUC"
   ]
  },
  {
   "cell_type": "code",
   "execution_count": 20,
   "id": "65771e17-3461-4d3a-9630-7139ea39e2f6",
   "metadata": {
    "tags": []
   },
   "outputs": [
    {
     "data": {
      "text/html": [],
      "text/plain": [
       "<IPython.core.display.HTML object>"
      ]
     },
     "metadata": {},
     "output_type": "display_data"
    },
    {
     "data": {
      "text/html": [
       "<style type=\"text/css\">\n",
       "#T_b45d1_row10_col0, #T_b45d1_row10_col1, #T_b45d1_row10_col2, #T_b45d1_row10_col3, #T_b45d1_row10_col4, #T_b45d1_row10_col5, #T_b45d1_row10_col6 {\n",
       "  background: yellow;\n",
       "}\n",
       "</style>\n",
       "<table id=\"T_b45d1\">\n",
       "  <thead>\n",
       "    <tr>\n",
       "      <th class=\"blank level0\" >&nbsp;</th>\n",
       "      <th id=\"T_b45d1_level0_col0\" class=\"col_heading level0 col0\" >Accuracy</th>\n",
       "      <th id=\"T_b45d1_level0_col1\" class=\"col_heading level0 col1\" >AUC</th>\n",
       "      <th id=\"T_b45d1_level0_col2\" class=\"col_heading level0 col2\" >Recall</th>\n",
       "      <th id=\"T_b45d1_level0_col3\" class=\"col_heading level0 col3\" >Prec.</th>\n",
       "      <th id=\"T_b45d1_level0_col4\" class=\"col_heading level0 col4\" >F1</th>\n",
       "      <th id=\"T_b45d1_level0_col5\" class=\"col_heading level0 col5\" >Kappa</th>\n",
       "      <th id=\"T_b45d1_level0_col6\" class=\"col_heading level0 col6\" >MCC</th>\n",
       "    </tr>\n",
       "    <tr>\n",
       "      <th class=\"index_name level0\" >Fold</th>\n",
       "      <th class=\"blank col0\" >&nbsp;</th>\n",
       "      <th class=\"blank col1\" >&nbsp;</th>\n",
       "      <th class=\"blank col2\" >&nbsp;</th>\n",
       "      <th class=\"blank col3\" >&nbsp;</th>\n",
       "      <th class=\"blank col4\" >&nbsp;</th>\n",
       "      <th class=\"blank col5\" >&nbsp;</th>\n",
       "      <th class=\"blank col6\" >&nbsp;</th>\n",
       "    </tr>\n",
       "  </thead>\n",
       "  <tbody>\n",
       "    <tr>\n",
       "      <th id=\"T_b45d1_level0_row0\" class=\"row_heading level0 row0\" >0</th>\n",
       "      <td id=\"T_b45d1_row0_col0\" class=\"data row0 col0\" >0.7320</td>\n",
       "      <td id=\"T_b45d1_row0_col1\" class=\"data row0 col1\" >0.7379</td>\n",
       "      <td id=\"T_b45d1_row0_col2\" class=\"data row0 col2\" >1.0000</td>\n",
       "      <td id=\"T_b45d1_row0_col3\" class=\"data row0 col3\" >0.6505</td>\n",
       "      <td id=\"T_b45d1_row0_col4\" class=\"data row0 col4\" >0.7883</td>\n",
       "      <td id=\"T_b45d1_row0_col5\" class=\"data row0 col5\" >0.4646</td>\n",
       "      <td id=\"T_b45d1_row0_col6\" class=\"data row0 col6\" >0.5501</td>\n",
       "    </tr>\n",
       "    <tr>\n",
       "      <th id=\"T_b45d1_level0_row1\" class=\"row_heading level0 row1\" >1</th>\n",
       "      <td id=\"T_b45d1_row1_col0\" class=\"data row1 col0\" >0.7198</td>\n",
       "      <td id=\"T_b45d1_row1_col1\" class=\"data row1 col1\" >0.7291</td>\n",
       "      <td id=\"T_b45d1_row1_col2\" class=\"data row1 col2\" >1.0000</td>\n",
       "      <td id=\"T_b45d1_row1_col3\" class=\"data row1 col3\" >0.6404</td>\n",
       "      <td id=\"T_b45d1_row1_col4\" class=\"data row1 col4\" >0.7808</td>\n",
       "      <td id=\"T_b45d1_row1_col5\" class=\"data row1 col5\" >0.4403</td>\n",
       "      <td id=\"T_b45d1_row1_col6\" class=\"data row1 col6\" >0.5313</td>\n",
       "    </tr>\n",
       "    <tr>\n",
       "      <th id=\"T_b45d1_level0_row2\" class=\"row_heading level0 row2\" >2</th>\n",
       "      <td id=\"T_b45d1_row2_col0\" class=\"data row2 col0\" >0.7043</td>\n",
       "      <td id=\"T_b45d1_row2_col1\" class=\"data row2 col1\" >0.7126</td>\n",
       "      <td id=\"T_b45d1_row2_col2\" class=\"data row2 col2\" >1.0000</td>\n",
       "      <td id=\"T_b45d1_row2_col3\" class=\"data row2 col3\" >0.6279</td>\n",
       "      <td id=\"T_b45d1_row2_col4\" class=\"data row2 col4\" >0.7714</td>\n",
       "      <td id=\"T_b45d1_row2_col5\" class=\"data row2 col5\" >0.4094</td>\n",
       "      <td id=\"T_b45d1_row2_col6\" class=\"data row2 col6\" >0.5073</td>\n",
       "    </tr>\n",
       "    <tr>\n",
       "      <th id=\"T_b45d1_level0_row3\" class=\"row_heading level0 row3\" >3</th>\n",
       "      <td id=\"T_b45d1_row3_col0\" class=\"data row3 col0\" >0.7331</td>\n",
       "      <td id=\"T_b45d1_row3_col1\" class=\"data row3 col1\" >0.7404</td>\n",
       "      <td id=\"T_b45d1_row3_col2\" class=\"data row3 col2\" >1.0000</td>\n",
       "      <td id=\"T_b45d1_row3_col3\" class=\"data row3 col3\" >0.6515</td>\n",
       "      <td id=\"T_b45d1_row3_col4\" class=\"data row3 col4\" >0.7890</td>\n",
       "      <td id=\"T_b45d1_row3_col5\" class=\"data row3 col5\" >0.4669</td>\n",
       "      <td id=\"T_b45d1_row3_col6\" class=\"data row3 col6\" >0.5518</td>\n",
       "    </tr>\n",
       "    <tr>\n",
       "      <th id=\"T_b45d1_level0_row4\" class=\"row_heading level0 row4\" >4</th>\n",
       "      <td id=\"T_b45d1_row4_col0\" class=\"data row4 col0\" >0.7169</td>\n",
       "      <td id=\"T_b45d1_row4_col1\" class=\"data row4 col1\" >0.7272</td>\n",
       "      <td id=\"T_b45d1_row4_col2\" class=\"data row4 col2\" >1.0000</td>\n",
       "      <td id=\"T_b45d1_row4_col3\" class=\"data row4 col3\" >0.6381</td>\n",
       "      <td id=\"T_b45d1_row4_col4\" class=\"data row4 col4\" >0.7791</td>\n",
       "      <td id=\"T_b45d1_row4_col5\" class=\"data row4 col5\" >0.4343</td>\n",
       "      <td id=\"T_b45d1_row4_col6\" class=\"data row4 col6\" >0.5267</td>\n",
       "    </tr>\n",
       "    <tr>\n",
       "      <th id=\"T_b45d1_level0_row5\" class=\"row_heading level0 row5\" >5</th>\n",
       "      <td id=\"T_b45d1_row5_col0\" class=\"data row5 col0\" >0.7435</td>\n",
       "      <td id=\"T_b45d1_row5_col1\" class=\"data row5 col1\" >0.7487</td>\n",
       "      <td id=\"T_b45d1_row5_col2\" class=\"data row5 col2\" >1.0000</td>\n",
       "      <td id=\"T_b45d1_row5_col3\" class=\"data row5 col3\" >0.6606</td>\n",
       "      <td id=\"T_b45d1_row5_col4\" class=\"data row5 col4\" >0.7956</td>\n",
       "      <td id=\"T_b45d1_row5_col5\" class=\"data row5 col5\" >0.4874</td>\n",
       "      <td id=\"T_b45d1_row5_col6\" class=\"data row5 col6\" >0.5677</td>\n",
       "    </tr>\n",
       "    <tr>\n",
       "      <th id=\"T_b45d1_level0_row6\" class=\"row_heading level0 row6\" >6</th>\n",
       "      <td id=\"T_b45d1_row6_col0\" class=\"data row6 col0\" >0.7291</td>\n",
       "      <td id=\"T_b45d1_row6_col1\" class=\"data row6 col1\" >0.7350</td>\n",
       "      <td id=\"T_b45d1_row6_col2\" class=\"data row6 col2\" >1.0000</td>\n",
       "      <td id=\"T_b45d1_row6_col3\" class=\"data row6 col3\" >0.6482</td>\n",
       "      <td id=\"T_b45d1_row6_col4\" class=\"data row6 col4\" >0.7866</td>\n",
       "      <td id=\"T_b45d1_row6_col5\" class=\"data row6 col5\" >0.4587</td>\n",
       "      <td id=\"T_b45d1_row6_col6\" class=\"data row6 col6\" >0.5455</td>\n",
       "    </tr>\n",
       "    <tr>\n",
       "      <th id=\"T_b45d1_level0_row7\" class=\"row_heading level0 row7\" >7</th>\n",
       "      <td id=\"T_b45d1_row7_col0\" class=\"data row7 col0\" >0.7296</td>\n",
       "      <td id=\"T_b45d1_row7_col1\" class=\"data row7 col1\" >0.7340</td>\n",
       "      <td id=\"T_b45d1_row7_col2\" class=\"data row7 col2\" >1.0000</td>\n",
       "      <td id=\"T_b45d1_row7_col3\" class=\"data row7 col3\" >0.6487</td>\n",
       "      <td id=\"T_b45d1_row7_col4\" class=\"data row7 col4\" >0.7869</td>\n",
       "      <td id=\"T_b45d1_row7_col5\" class=\"data row7 col5\" >0.4598</td>\n",
       "      <td id=\"T_b45d1_row7_col6\" class=\"data row7 col6\" >0.5464</td>\n",
       "    </tr>\n",
       "    <tr>\n",
       "      <th id=\"T_b45d1_level0_row8\" class=\"row_heading level0 row8\" >8</th>\n",
       "      <td id=\"T_b45d1_row8_col0\" class=\"data row8 col0\" >0.7224</td>\n",
       "      <td id=\"T_b45d1_row8_col1\" class=\"data row8 col1\" >0.7273</td>\n",
       "      <td id=\"T_b45d1_row8_col2\" class=\"data row8 col2\" >0.9956</td>\n",
       "      <td id=\"T_b45d1_row8_col3\" class=\"data row8 col3\" >0.6435</td>\n",
       "      <td id=\"T_b45d1_row8_col4\" class=\"data row8 col4\" >0.7817</td>\n",
       "      <td id=\"T_b45d1_row8_col5\" class=\"data row8 col5\" >0.4454</td>\n",
       "      <td id=\"T_b45d1_row8_col6\" class=\"data row8 col6\" >0.5315</td>\n",
       "    </tr>\n",
       "    <tr>\n",
       "      <th id=\"T_b45d1_level0_row9\" class=\"row_heading level0 row9\" >9</th>\n",
       "      <td id=\"T_b45d1_row9_col0\" class=\"data row9 col0\" >0.7213</td>\n",
       "      <td id=\"T_b45d1_row9_col1\" class=\"data row9 col1\" >0.7242</td>\n",
       "      <td id=\"T_b45d1_row9_col2\" class=\"data row9 col2\" >1.0000</td>\n",
       "      <td id=\"T_b45d1_row9_col3\" class=\"data row9 col3\" >0.6417</td>\n",
       "      <td id=\"T_b45d1_row9_col4\" class=\"data row9 col4\" >0.7818</td>\n",
       "      <td id=\"T_b45d1_row9_col5\" class=\"data row9 col5\" >0.4432</td>\n",
       "      <td id=\"T_b45d1_row9_col6\" class=\"data row9 col6\" >0.5335</td>\n",
       "    </tr>\n",
       "    <tr>\n",
       "      <th id=\"T_b45d1_level0_row10\" class=\"row_heading level0 row10\" >Mean</th>\n",
       "      <td id=\"T_b45d1_row10_col0\" class=\"data row10 col0\" >0.7252</td>\n",
       "      <td id=\"T_b45d1_row10_col1\" class=\"data row10 col1\" >0.7316</td>\n",
       "      <td id=\"T_b45d1_row10_col2\" class=\"data row10 col2\" >0.9996</td>\n",
       "      <td id=\"T_b45d1_row10_col3\" class=\"data row10 col3\" >0.6451</td>\n",
       "      <td id=\"T_b45d1_row10_col4\" class=\"data row10 col4\" >0.7841</td>\n",
       "      <td id=\"T_b45d1_row10_col5\" class=\"data row10 col5\" >0.4510</td>\n",
       "      <td id=\"T_b45d1_row10_col6\" class=\"data row10 col6\" >0.5392</td>\n",
       "    </tr>\n",
       "    <tr>\n",
       "      <th id=\"T_b45d1_level0_row11\" class=\"row_heading level0 row11\" >Std</th>\n",
       "      <td id=\"T_b45d1_row11_col0\" class=\"data row11 col0\" >0.0102</td>\n",
       "      <td id=\"T_b45d1_row11_col1\" class=\"data row11 col1\" >0.0094</td>\n",
       "      <td id=\"T_b45d1_row11_col2\" class=\"data row11 col2\" >0.0013</td>\n",
       "      <td id=\"T_b45d1_row11_col3\" class=\"data row11 col3\" >0.0084</td>\n",
       "      <td id=\"T_b45d1_row11_col4\" class=\"data row11 col4\" >0.0063</td>\n",
       "      <td id=\"T_b45d1_row11_col5\" class=\"data row11 col5\" >0.0203</td>\n",
       "      <td id=\"T_b45d1_row11_col6\" class=\"data row11 col6\" >0.0158</td>\n",
       "    </tr>\n",
       "  </tbody>\n",
       "</table>\n"
      ],
      "text/plain": [
       "<pandas.io.formats.style.Styler at 0x1f780fb7760>"
      ]
     },
     "metadata": {},
     "output_type": "display_data"
    },
    {
     "data": {
      "application/vnd.jupyter.widget-view+json": {
       "model_id": "",
       "version_major": 2,
       "version_minor": 0
      },
      "text/plain": [
       "Processing:   0%|          | 0/7 [00:00<?, ?it/s]"
      ]
     },
     "metadata": {},
     "output_type": "display_data"
    },
    {
     "name": "stdout",
     "output_type": "stream",
     "text": [
      "Fitting 10 folds for each of 10 candidates, totalling 100 fits\n"
     ]
    }
   ],
   "source": [
    "tuned_model = tune_model(best_model, n_iter=10, optimize='AUC')"
   ]
  },
  {
   "cell_type": "markdown",
   "id": "c1af3621-17d8-4117-878c-64687c9e529d",
   "metadata": {
    "tags": []
   },
   "source": [
    "### Test tuned model on hold-out test set"
   ]
  },
  {
   "cell_type": "code",
   "execution_count": 21,
   "id": "95451585-b2d1-4f1b-b987-67f51f4b567b",
   "metadata": {
    "tags": []
   },
   "outputs": [
    {
     "data": {
      "text/html": [
       "<style type=\"text/css\">\n",
       "</style>\n",
       "<table id=\"T_8e521\">\n",
       "  <thead>\n",
       "    <tr>\n",
       "      <th class=\"blank level0\" >&nbsp;</th>\n",
       "      <th id=\"T_8e521_level0_col0\" class=\"col_heading level0 col0\" >Model</th>\n",
       "      <th id=\"T_8e521_level0_col1\" class=\"col_heading level0 col1\" >Accuracy</th>\n",
       "      <th id=\"T_8e521_level0_col2\" class=\"col_heading level0 col2\" >AUC</th>\n",
       "      <th id=\"T_8e521_level0_col3\" class=\"col_heading level0 col3\" >Recall</th>\n",
       "      <th id=\"T_8e521_level0_col4\" class=\"col_heading level0 col4\" >Prec.</th>\n",
       "      <th id=\"T_8e521_level0_col5\" class=\"col_heading level0 col5\" >F1</th>\n",
       "      <th id=\"T_8e521_level0_col6\" class=\"col_heading level0 col6\" >Kappa</th>\n",
       "      <th id=\"T_8e521_level0_col7\" class=\"col_heading level0 col7\" >MCC</th>\n",
       "    </tr>\n",
       "  </thead>\n",
       "  <tbody>\n",
       "    <tr>\n",
       "      <th id=\"T_8e521_level0_row0\" class=\"row_heading level0 row0\" >0</th>\n",
       "      <td id=\"T_8e521_row0_col0\" class=\"data row0 col0\" >Gradient Boosting Classifier</td>\n",
       "      <td id=\"T_8e521_row0_col1\" class=\"data row0 col1\" >0.7585</td>\n",
       "      <td id=\"T_8e521_row0_col2\" class=\"data row0 col2\" >0.7607</td>\n",
       "      <td id=\"T_8e521_row0_col3\" class=\"data row0 col3\" >0</td>\n",
       "      <td id=\"T_8e521_row0_col4\" class=\"data row0 col4\" >0</td>\n",
       "      <td id=\"T_8e521_row0_col5\" class=\"data row0 col5\" >0</td>\n",
       "      <td id=\"T_8e521_row0_col6\" class=\"data row0 col6\" >0.5152</td>\n",
       "      <td id=\"T_8e521_row0_col7\" class=\"data row0 col7\" >0.5891</td>\n",
       "    </tr>\n",
       "  </tbody>\n",
       "</table>\n"
      ],
      "text/plain": [
       "<pandas.io.formats.style.Styler at 0x1f780fb6950>"
      ]
     },
     "metadata": {},
     "output_type": "display_data"
    }
   ],
   "source": [
    "predictions = predict_model(tuned_model, data=test_news)"
   ]
  },
  {
   "cell_type": "markdown",
   "id": "2038fa06-eebb-4cd8-80d9-8385fb229567",
   "metadata": {},
   "source": [
    "## Create the top tree model and interpret"
   ]
  },
  {
   "cell_type": "code",
   "execution_count": 30,
   "id": "653c30e4-6b48-4afc-a37b-4b77339384b8",
   "metadata": {
    "tags": []
   },
   "outputs": [
    {
     "data": {
      "text/html": [],
      "text/plain": [
       "<IPython.core.display.HTML object>"
      ]
     },
     "metadata": {},
     "output_type": "display_data"
    },
    {
     "data": {
      "text/html": [
       "<style type=\"text/css\">\n",
       "#T_ab74a_row10_col0, #T_ab74a_row10_col1, #T_ab74a_row10_col2, #T_ab74a_row10_col3, #T_ab74a_row10_col4, #T_ab74a_row10_col5, #T_ab74a_row10_col6 {\n",
       "  background: yellow;\n",
       "}\n",
       "</style>\n",
       "<table id=\"T_ab74a\">\n",
       "  <thead>\n",
       "    <tr>\n",
       "      <th class=\"blank level0\" >&nbsp;</th>\n",
       "      <th id=\"T_ab74a_level0_col0\" class=\"col_heading level0 col0\" >Accuracy</th>\n",
       "      <th id=\"T_ab74a_level0_col1\" class=\"col_heading level0 col1\" >AUC</th>\n",
       "      <th id=\"T_ab74a_level0_col2\" class=\"col_heading level0 col2\" >Recall</th>\n",
       "      <th id=\"T_ab74a_level0_col3\" class=\"col_heading level0 col3\" >Prec.</th>\n",
       "      <th id=\"T_ab74a_level0_col4\" class=\"col_heading level0 col4\" >F1</th>\n",
       "      <th id=\"T_ab74a_level0_col5\" class=\"col_heading level0 col5\" >Kappa</th>\n",
       "      <th id=\"T_ab74a_level0_col6\" class=\"col_heading level0 col6\" >MCC</th>\n",
       "    </tr>\n",
       "    <tr>\n",
       "      <th class=\"index_name level0\" >Fold</th>\n",
       "      <th class=\"blank col0\" >&nbsp;</th>\n",
       "      <th class=\"blank col1\" >&nbsp;</th>\n",
       "      <th class=\"blank col2\" >&nbsp;</th>\n",
       "      <th class=\"blank col3\" >&nbsp;</th>\n",
       "      <th class=\"blank col4\" >&nbsp;</th>\n",
       "      <th class=\"blank col5\" >&nbsp;</th>\n",
       "      <th class=\"blank col6\" >&nbsp;</th>\n",
       "    </tr>\n",
       "  </thead>\n",
       "  <tbody>\n",
       "    <tr>\n",
       "      <th id=\"T_ab74a_level0_row0\" class=\"row_heading level0 row0\" >0</th>\n",
       "      <td id=\"T_ab74a_row0_col0\" class=\"data row0 col0\" >0.7342</td>\n",
       "      <td id=\"T_ab74a_row0_col1\" class=\"data row0 col1\" >0.7385</td>\n",
       "      <td id=\"T_ab74a_row0_col2\" class=\"data row0 col2\" >0.9989</td>\n",
       "      <td id=\"T_ab74a_row0_col3\" class=\"data row0 col3\" >0.6526</td>\n",
       "      <td id=\"T_ab74a_row0_col4\" class=\"data row0 col4\" >0.7895</td>\n",
       "      <td id=\"T_ab74a_row0_col5\" class=\"data row0 col5\" >0.4691</td>\n",
       "      <td id=\"T_ab74a_row0_col6\" class=\"data row0 col6\" >0.5526</td>\n",
       "    </tr>\n",
       "    <tr>\n",
       "      <th id=\"T_ab74a_level0_row1\" class=\"row_heading level0 row1\" >1</th>\n",
       "      <td id=\"T_ab74a_row1_col0\" class=\"data row1 col0\" >0.7198</td>\n",
       "      <td id=\"T_ab74a_row1_col1\" class=\"data row1 col1\" >0.7161</td>\n",
       "      <td id=\"T_ab74a_row1_col2\" class=\"data row1 col2\" >1.0000</td>\n",
       "      <td id=\"T_ab74a_row1_col3\" class=\"data row1 col3\" >0.6404</td>\n",
       "      <td id=\"T_ab74a_row1_col4\" class=\"data row1 col4\" >0.7808</td>\n",
       "      <td id=\"T_ab74a_row1_col5\" class=\"data row1 col5\" >0.4403</td>\n",
       "      <td id=\"T_ab74a_row1_col6\" class=\"data row1 col6\" >0.5313</td>\n",
       "    </tr>\n",
       "    <tr>\n",
       "      <th id=\"T_ab74a_level0_row2\" class=\"row_heading level0 row2\" >2</th>\n",
       "      <td id=\"T_ab74a_row2_col0\" class=\"data row2 col0\" >0.7054</td>\n",
       "      <td id=\"T_ab74a_row2_col1\" class=\"data row2 col1\" >0.7100</td>\n",
       "      <td id=\"T_ab74a_row2_col2\" class=\"data row2 col2\" >1.0000</td>\n",
       "      <td id=\"T_ab74a_row2_col3\" class=\"data row2 col3\" >0.6288</td>\n",
       "      <td id=\"T_ab74a_row2_col4\" class=\"data row2 col4\" >0.7721</td>\n",
       "      <td id=\"T_ab74a_row2_col5\" class=\"data row2 col5\" >0.4116</td>\n",
       "      <td id=\"T_ab74a_row2_col6\" class=\"data row2 col6\" >0.5091</td>\n",
       "    </tr>\n",
       "    <tr>\n",
       "      <th id=\"T_ab74a_level0_row3\" class=\"row_heading level0 row3\" >3</th>\n",
       "      <td id=\"T_ab74a_row3_col0\" class=\"data row3 col0\" >0.7320</td>\n",
       "      <td id=\"T_ab74a_row3_col1\" class=\"data row3 col1\" >0.7404</td>\n",
       "      <td id=\"T_ab74a_row3_col2\" class=\"data row3 col2\" >0.9967</td>\n",
       "      <td id=\"T_ab74a_row3_col3\" class=\"data row3 col3\" >0.6512</td>\n",
       "      <td id=\"T_ab74a_row3_col4\" class=\"data row3 col4\" >0.7877</td>\n",
       "      <td id=\"T_ab74a_row3_col5\" class=\"data row3 col5\" >0.4646</td>\n",
       "      <td id=\"T_ab74a_row3_col6\" class=\"data row3 col6\" >0.5474</td>\n",
       "    </tr>\n",
       "    <tr>\n",
       "      <th id=\"T_ab74a_level0_row4\" class=\"row_heading level0 row4\" >4</th>\n",
       "      <td id=\"T_ab74a_row4_col0\" class=\"data row4 col0\" >0.7175</td>\n",
       "      <td id=\"T_ab74a_row4_col1\" class=\"data row4 col1\" >0.7263</td>\n",
       "      <td id=\"T_ab74a_row4_col2\" class=\"data row4 col2\" >1.0000</td>\n",
       "      <td id=\"T_ab74a_row4_col3\" class=\"data row4 col3\" >0.6386</td>\n",
       "      <td id=\"T_ab74a_row4_col4\" class=\"data row4 col4\" >0.7794</td>\n",
       "      <td id=\"T_ab74a_row4_col5\" class=\"data row4 col5\" >0.4354</td>\n",
       "      <td id=\"T_ab74a_row4_col6\" class=\"data row4 col6\" >0.5275</td>\n",
       "    </tr>\n",
       "    <tr>\n",
       "      <th id=\"T_ab74a_level0_row5\" class=\"row_heading level0 row5\" >5</th>\n",
       "      <td id=\"T_ab74a_row5_col0\" class=\"data row5 col0\" >0.7446</td>\n",
       "      <td id=\"T_ab74a_row5_col1\" class=\"data row5 col1\" >0.7487</td>\n",
       "      <td id=\"T_ab74a_row5_col2\" class=\"data row5 col2\" >1.0000</td>\n",
       "      <td id=\"T_ab74a_row5_col3\" class=\"data row5 col3\" >0.6615</td>\n",
       "      <td id=\"T_ab74a_row5_col4\" class=\"data row5 col4\" >0.7963</td>\n",
       "      <td id=\"T_ab74a_row5_col5\" class=\"data row5 col5\" >0.4896</td>\n",
       "      <td id=\"T_ab74a_row5_col6\" class=\"data row5 col6\" >0.5694</td>\n",
       "    </tr>\n",
       "    <tr>\n",
       "      <th id=\"T_ab74a_level0_row6\" class=\"row_heading level0 row6\" >6</th>\n",
       "      <td id=\"T_ab74a_row6_col0\" class=\"data row6 col0\" >0.7302</td>\n",
       "      <td id=\"T_ab74a_row6_col1\" class=\"data row6 col1\" >0.7351</td>\n",
       "      <td id=\"T_ab74a_row6_col2\" class=\"data row6 col2\" >0.9989</td>\n",
       "      <td id=\"T_ab74a_row6_col3\" class=\"data row6 col3\" >0.6494</td>\n",
       "      <td id=\"T_ab74a_row6_col4\" class=\"data row6 col4\" >0.7871</td>\n",
       "      <td id=\"T_ab74a_row6_col5\" class=\"data row6 col5\" >0.4609</td>\n",
       "      <td id=\"T_ab74a_row6_col6\" class=\"data row6 col6\" >0.5463</td>\n",
       "    </tr>\n",
       "    <tr>\n",
       "      <th id=\"T_ab74a_level0_row7\" class=\"row_heading level0 row7\" >7</th>\n",
       "      <td id=\"T_ab74a_row7_col0\" class=\"data row7 col0\" >0.7307</td>\n",
       "      <td id=\"T_ab74a_row7_col1\" class=\"data row7 col1\" >0.7346</td>\n",
       "      <td id=\"T_ab74a_row7_col2\" class=\"data row7 col2\" >0.9989</td>\n",
       "      <td id=\"T_ab74a_row7_col3\" class=\"data row7 col3\" >0.6498</td>\n",
       "      <td id=\"T_ab74a_row7_col4\" class=\"data row7 col4\" >0.7874</td>\n",
       "      <td id=\"T_ab74a_row7_col5\" class=\"data row7 col5\" >0.4620</td>\n",
       "      <td id=\"T_ab74a_row7_col6\" class=\"data row7 col6\" >0.5471</td>\n",
       "    </tr>\n",
       "    <tr>\n",
       "      <th id=\"T_ab74a_level0_row8\" class=\"row_heading level0 row8\" >8</th>\n",
       "      <td id=\"T_ab74a_row8_col0\" class=\"data row8 col0\" >0.7224</td>\n",
       "      <td id=\"T_ab74a_row8_col1\" class=\"data row8 col1\" >0.7273</td>\n",
       "      <td id=\"T_ab74a_row8_col2\" class=\"data row8 col2\" >0.9956</td>\n",
       "      <td id=\"T_ab74a_row8_col3\" class=\"data row8 col3\" >0.6435</td>\n",
       "      <td id=\"T_ab74a_row8_col4\" class=\"data row8 col4\" >0.7817</td>\n",
       "      <td id=\"T_ab74a_row8_col5\" class=\"data row8 col5\" >0.4454</td>\n",
       "      <td id=\"T_ab74a_row8_col6\" class=\"data row8 col6\" >0.5315</td>\n",
       "    </tr>\n",
       "    <tr>\n",
       "      <th id=\"T_ab74a_level0_row9\" class=\"row_heading level0 row9\" >9</th>\n",
       "      <td id=\"T_ab74a_row9_col0\" class=\"data row9 col0\" >0.7224</td>\n",
       "      <td id=\"T_ab74a_row9_col1\" class=\"data row9 col1\" >0.7248</td>\n",
       "      <td id=\"T_ab74a_row9_col2\" class=\"data row9 col2\" >0.9978</td>\n",
       "      <td id=\"T_ab74a_row9_col3\" class=\"data row9 col3\" >0.6431</td>\n",
       "      <td id=\"T_ab74a_row9_col4\" class=\"data row9 col4\" >0.7821</td>\n",
       "      <td id=\"T_ab74a_row9_col5\" class=\"data row9 col5\" >0.4454</td>\n",
       "      <td id=\"T_ab74a_row9_col6\" class=\"data row9 col6\" >0.5334</td>\n",
       "    </tr>\n",
       "    <tr>\n",
       "      <th id=\"T_ab74a_level0_row10\" class=\"row_heading level0 row10\" >Mean</th>\n",
       "      <td id=\"T_ab74a_row10_col0\" class=\"data row10 col0\" >0.7259</td>\n",
       "      <td id=\"T_ab74a_row10_col1\" class=\"data row10 col1\" >0.7302</td>\n",
       "      <td id=\"T_ab74a_row10_col2\" class=\"data row10 col2\" >0.9987</td>\n",
       "      <td id=\"T_ab74a_row10_col3\" class=\"data row10 col3\" >0.6459</td>\n",
       "      <td id=\"T_ab74a_row10_col4\" class=\"data row10 col4\" >0.7844</td>\n",
       "      <td id=\"T_ab74a_row10_col5\" class=\"data row10 col5\" >0.4524</td>\n",
       "      <td id=\"T_ab74a_row10_col6\" class=\"data row10 col6\" >0.5396</td>\n",
       "    </tr>\n",
       "    <tr>\n",
       "      <th id=\"T_ab74a_level0_row11\" class=\"row_heading level0 row11\" >Std</th>\n",
       "      <td id=\"T_ab74a_row11_col0\" class=\"data row11 col0\" >0.0102</td>\n",
       "      <td id=\"T_ab74a_row11_col1\" class=\"data row11 col1\" >0.0110</td>\n",
       "      <td id=\"T_ab74a_row11_col2\" class=\"data row11 col2\" >0.0015</td>\n",
       "      <td id=\"T_ab74a_row11_col3\" class=\"data row11 col3\" >0.0086</td>\n",
       "      <td id=\"T_ab74a_row11_col4\" class=\"data row11 col4\" >0.0063</td>\n",
       "      <td id=\"T_ab74a_row11_col5\" class=\"data row11 col5\" >0.0204</td>\n",
       "      <td id=\"T_ab74a_row11_col6\" class=\"data row11 col6\" >0.0157</td>\n",
       "    </tr>\n",
       "  </tbody>\n",
       "</table>\n"
      ],
      "text/plain": [
       "<pandas.io.formats.style.Styler at 0x1f780af4580>"
      ]
     },
     "metadata": {},
     "output_type": "display_data"
    },
    {
     "data": {
      "application/vnd.jupyter.widget-view+json": {
       "model_id": "",
       "version_major": 2,
       "version_minor": 0
      },
      "text/plain": [
       "Processing:   0%|          | 0/4 [00:00<?, ?it/s]"
      ]
     },
     "metadata": {},
     "output_type": "display_data"
    },
    {
     "data": {
      "image/png": "[encoded data removed]",
      "text/plain": [
       "<Figure size 800x310 with 2 Axes>"
      ]
     },
     "metadata": {},
     "output_type": "display_data"
    }
   ],
   "source": [
    "rf = create_model('rf')\n",
    "interpret_model(rf)"
   ]
  },
  {
   "cell_type": "markdown",
   "id": "42167a79-cfda-497e-8d23-8672e601580a",
   "metadata": {
    "tags": []
   },
   "source": [
    "## Try gradient boosting"
   ]
  },
  {
   "cell_type": "code",
   "execution_count": 24,
   "id": "9ce13d15-79c8-4c6f-a276-2fa914d8b5a7",
   "metadata": {
    "tags": []
   },
   "outputs": [
    {
     "name": "stdout",
     "output_type": "stream",
     "text": [
      "Gradient Boosting Classifier Accuracy: 0.7216191066997518\n",
      "Gradient Boosting Classifier ROC AUC Score: 0.7986436301222254\n"
     ]
    },
    {
     "data": {
      "image/png": "[encoded data removed]",
      "text/plain": [
       "<Figure size 800x550 with 1 Axes>"
      ]
     },
     "metadata": {},
     "output_type": "display_data"
    }
   ],
   "source": [
    "from sklearn.ensemble import GradientBoostingClassifier\n",
    "\n",
    "# Gradient Boosting Classifier\n",
    "clf_gbc = GradientBoostingClassifier(random_state=777)\n",
    "clf_gbc.fit(X_train, y_train)\n",
    "y_pred_gbc = clf_gbc.predict(X_test)\n",
    "\n",
    "# Calculate the accuracy score\n",
    "acc_gbc = accuracy_score(y_test, y_pred_gbc)\n",
    "print('Gradient Boosting Classifier Accuracy:', acc_gbc)\n",
    "\n",
    "# Calculate AUC-ROC score\n",
    "y_pred_prob_gbc = clf_gbc.predict_proba(X_test)[:,1]\n",
    "roc_auc_gbc = roc_auc_score(y_test, y_pred_prob_gbc)\n",
    "print('Gradient Boosting Classifier ROC AUC Score:', roc_auc_gbc)\n",
    "\n",
    "# Plot the ROC curve\n",
    "fpr_gbc, tpr_gbc, thresholds_gbc = roc_curve(y_test, y_pred_prob_gbc, pos_label='real')\n",
    "plt.plot(fpr_gbc, tpr_gbc)\n",
    "plt.title('ROC Curve')\n",
    "plt.xlabel('False Positive Rate')\n",
    "plt.ylabel('True Positive Rate')\n",
    "plt.show()"
   ]
  },
  {
   "cell_type": "markdown",
   "id": "c43d81c1-c297-4121-a651-e300b488e276",
   "metadata": {
    "tags": []
   },
   "source": [
    "## Try logistic regression and random forest"
   ]
  },
  {
   "cell_type": "code",
   "execution_count": 25,
   "id": "d3947179-d9fe-4640-a9d8-a6f69ff2a447",
   "metadata": {
    "tags": []
   },
   "outputs": [
    {
     "name": "stdout",
     "output_type": "stream",
     "text": [
      "Logistic Regression Accuracy: 0.861817617866005\n",
      "Logistic Regression ROC AUC Score: 0.9307821303223422\n",
      "Random Forest Accuracy: 0.9050868486352357\n",
      "Random Forest ROC AUC Score: 0.9741474823743111\n"
     ]
    },
    {
     "data": {
      "image/png": "[encoded data removed]",
      "text/plain": [
       "<Figure size 800x550 with 1 Axes>"
      ]
     },
     "metadata": {},
     "output_type": "display_data"
    }
   ],
   "source": [
    "# Logistic Regression\n",
    "clf_lr = LogisticRegression(max_iter=1000, random_state=777)\n",
    "clf_lr.fit(X_train, y_train)\n",
    "y_pred_lr = clf_lr.predict(X_test)\n",
    "acc_lr = accuracy_score(y_test, y_pred_lr)\n",
    "print('Logistic Regression Accuracy:', acc_lr)\n",
    "\n",
    "# Logistic Regression AUC-ROC score\n",
    "y_pred_prob_lr = clf_lr.predict_proba(X_test)[:,1]\n",
    "roc_auc_lr = roc_auc_score(y_test, y_pred_prob_lr)\n",
    "print('Logistic Regression ROC AUC Score:', roc_auc_lr)\n",
    "\n",
    "# Random Forest\n",
    "clf_rf = RandomForestClassifier(random_state=777)\n",
    "clf_rf.fit(X_train, y_train)\n",
    "y_pred_rf = clf_rf.predict(X_test)\n",
    "acc_rf = accuracy_score(y_test, y_pred_rf)\n",
    "print('Random Forest Accuracy:', acc_rf)\n",
    "\n",
    "# Random Forest AUC-ROC\n",
    "y_pred_prob_rf = clf_rf.predict_proba(X_test)[:,1]\n",
    "roc_auc_rf = roc_auc_score(y_test, y_pred_prob_rf)\n",
    "print('Random Forest ROC AUC Score:', roc_auc_rf)\n",
    "\n",
    "# Plot the ROC curves\n",
    "fpr_lr, tpr_lr, thresholds_lr = roc_curve(y_test, y_pred_prob_lr, pos_label='real')\n",
    "plt.plot(fpr_lr, tpr_lr, label='Logistic Regression')\n",
    "\n",
    "fpr_rf, tpr_rf, thresholds_rf = roc_curve(y_test, y_pred_prob_rf, pos_label='real')\n",
    "plt.plot(fpr_rf, tpr_rf, label='Random Forest')\n",
    "\n",
    "plt.title('ROC Curve')\n",
    "plt.xlabel('False Positive Rate')\n",
    "plt.ylabel('True Positive Rate')\n",
    "plt.legend()\n",
    "plt.show()"
   ]
  },
  {
   "cell_type": "markdown",
   "id": "63b4e1a5-359e-42bd-8142-1d916d2b6243",
   "metadata": {
    "tags": []
   },
   "source": [
    "## Try ensemble with logistic regression and random forest"
   ]
  },
  {
   "cell_type": "code",
   "execution_count": 26,
   "id": "db52cf3c-2bf7-4c7f-9eab-590499becc4e",
   "metadata": {
    "tags": []
   },
   "outputs": [
    {
     "name": "stdout",
     "output_type": "stream",
     "text": [
      "Accuracy: 0.9083436724565757\n",
      "ROC AUC Score: 0.9690214086696839\n"
     ]
    },
    {
     "data": {
      "image/png": "[encoded data removed]",
      "text/plain": [
       "<Figure size 800x550 with 1 Axes>"
      ]
     },
     "metadata": {},
     "output_type": "display_data"
    }
   ],
   "source": [
    "# Define classifiers\n",
    "clf_lr = LogisticRegression(max_iter=1000, random_state=777)\n",
    "clf_rf = RandomForestClassifier(random_state=777)\n",
    "clf_voting = VotingClassifier(estimators=[('lr', clf_lr), ('rf', clf_rf)], voting='soft')\n",
    "\n",
    "# Train the voting classifier\n",
    "clf_voting.fit(X_train, y_train)\n",
    "\n",
    "# Make predictions on the test set\n",
    "y_pred = clf_voting.predict(X_test)\n",
    "\n",
    "# Calculate the accuracy score\n",
    "acc = accuracy_score(y_test, y_pred)\n",
    "print('Accuracy:', acc)\n",
    "\n",
    "# Calculate AUC-ROC score\n",
    "y_pred_prob = clf_voting.predict_proba(X_test)[:,1]\n",
    "roc_auc = roc_auc_score(y_test, y_pred_prob)\n",
    "print('ROC AUC Score:', roc_auc)\n",
    "\n",
    "# Plot the ROC curve\n",
    "fpr, tpr, thresholds = roc_curve(y_test, y_pred_prob, pos_label='real')\n",
    "plt.plot(fpr, tpr)\n",
    "plt.title('ROC Curve')\n",
    "plt.xlabel('False Positive Rate')\n",
    "plt.ylabel('True Positive Rate')\n",
    "plt.show()"
   ]
  },
  {
   "cell_type": "markdown",
   "id": "3e6969fb-7ee0-44c8-a5f3-0f17f46c5c9f",
   "metadata": {},
   "source": [
    "## Try ensemble with all three classifiers"
   ]
  },
  {
   "cell_type": "code",
   "execution_count": 27,
   "id": "35c98bec-b15d-4729-b87c-97fa1b3f348e",
   "metadata": {
    "tags": []
   },
   "outputs": [
    {
     "name": "stdout",
     "output_type": "stream",
     "text": [
      "Accuracy: 0.9032258064516129\n",
      "ROC AUC Score: 0.9604431244419815\n"
     ]
    },
    {
     "data": {
      "image/png": "[encoded data removed]",
      "text/plain": [
       "<Figure size 800x550 with 1 Axes>"
      ]
     },
     "metadata": {},
     "output_type": "display_data"
    }
   ],
   "source": [
    "# Define classifiers\n",
    "clf_gb = GradientBoostingClassifier(random_state=777)\n",
    "clf_lr = LogisticRegression(max_iter=1000, random_state=777)\n",
    "clf_rf = RandomForestClassifier(random_state=777)\n",
    "\n",
    "# Train the classifiers\n",
    "clf_gb.fit(X_train, y_train)\n",
    "clf_lr.fit(X_train, y_train)\n",
    "clf_rf.fit(X_train, y_train)\n",
    "\n",
    "# Create the ensemble\n",
    "clf_voting = VotingClassifier(estimators=[('gb', clf_gb), ('lr', clf_lr), ('rf', clf_rf)], voting='soft')\n",
    "\n",
    "# Train the ensemble\n",
    "clf_voting.fit(X_train, y_train)\n",
    "\n",
    "# Make predictions on the test set\n",
    "y_pred = clf_voting.predict(X_test)\n",
    "\n",
    "# Calculate the accuracy score\n",
    "acc = accuracy_score(y_test, y_pred)\n",
    "print('Accuracy:', acc)\n",
    "\n",
    "# Calculate AUC-ROC score\n",
    "y_pred_prob = clf_voting.predict_proba(X_test)[:,1]\n",
    "roc_auc = roc_auc_score(y_test, y_pred_prob)\n",
    "print('ROC AUC Score:', roc_auc)\n",
    "\n",
    "# Plot the ROC curve\n",
    "fpr, tpr, thresholds = roc_curve(y_test, y_pred_prob, pos_label='real')\n",
    "plt.plot(fpr, tpr)\n",
    "plt.title('ROC Curve')\n",
    "plt.xlabel('False Positive Rate')\n",
    "plt.ylabel('True Positive Rate')\n",
    "plt.show()"
   ]
  },
  {
   "cell_type": "markdown",
   "id": "39c81038-355b-4562-a2b7-5fd62e3f37a4",
   "metadata": {},
   "source": [
    "## Generate html file"
   ]
  },
  {
   "cell_type": "code",
   "execution_count": 32,
   "id": "fd9d149f-e5d7-426a-8bc2-ac1f96ffec48",
   "metadata": {
    "tags": []
   },
   "outputs": [
    {
     "name": "stderr",
     "output_type": "stream",
     "text": [
      "[NbConvertApp] Converting notebook SEAS 6800B - Fake News NLP Predictions - John Kuk.ipynb to html\n",
      "[NbConvertApp] Writing 987777 bytes to SEAS 6800B - Fake News NLP Predictions - John Kuk.html\n"
     ]
    }
   ],
   "source": [
    "!jupyter nbconvert --to html *.ipynb"
   ]
  }
 ],
 "metadata": {
  "kernelspec": {
   "display_name": "Python 3 (ipykernel)",
   "language": "python",
   "name": "python3"
  },
  "language_info": {
   "codemirror_mode": {
    "name": "ipython",
    "version": 3
   },
   "file_extension": ".py",
   "mimetype": "text/x-python",
   "name": "python",
   "nbconvert_exporter": "python",
   "pygments_lexer": "ipython3",
   "version": "3.10.9"
  }
 },
 "nbformat": 4,
 "nbformat_minor": 5
}
